{
  "nbformat": 4,
  "nbformat_minor": 0,
  "metadata": {
    "colab": {
      "name": "covid (eda and decision making)",
      "provenance": [],
      "collapsed_sections": []
    },
    "kernelspec": {
      "name": "python3",
      "display_name": "Python 3"
    }
  },
  "cells": [
    {
      "cell_type": "markdown",
      "metadata": {
        "id": "kWPBTyZXpK2Y"
      },
      "source": [
        "##Settings"
      ]
    },
    {
      "cell_type": "code",
      "metadata": {
        "id": "7kEIoIRgo9p2"
      },
      "source": [
        "#covid_rl_v0.7_part1_LCTC_image_reproducing (last).ipynb의 사본의 사본 2020 09의 사본"
      ],
      "execution_count": null,
      "outputs": []
    },
    {
      "cell_type": "code",
      "metadata": {
        "id": "B34V9kI02BVb"
      },
      "source": [
        "##depending on choice for particular submissions : you can change the font family\n",
        "import matplotlib.pyplot as plt\n",
        "plt.rcParams[\"font.family\"] = \"Helvetica\"\n",
        "\n",
        "# plt.rcParams[\"font.family\"] = \"sans-serif\"\n",
        "# plt.rcParams[\"font.family\"] = \"Arial\"\n",
        "# plt.rcParams[\"font.family\"] = \"Times\"\n",
        "# plt.rcParams[\"font.family\"] = \"Times New Roman\""
      ],
      "execution_count": null,
      "outputs": []
    },
    {
      "cell_type": "code",
      "metadata": {
        "id": "Pnofs8ymTWFX",
        "outputId": "74df9b84-9964-4f58-df39-d05b889086ba",
        "colab": {
          "base_uri": "https://localhost:8080/",
          "height": 34
        }
      },
      "source": [
        "##Although you can still check on the deivce settings, we downgraded tensorflow version to 1.15 for less error. \n",
        "##I also needed to change a bit for below tensorflow area to solve the error because of the version update.\n",
        "!pip install tensorflow==1.15.0\n",
        "!pip install tensorflow-gpu==1.15.0\n",
        "!pip install tensorflow_probability==0.7.0"
      ],
      "execution_count": null,
      "outputs": [
        {
          "output_type": "execute_result",
          "data": {
            "text/plain": [
              "'!pip install tensorflow==1.15.0\\n!pip install tensorflow-gpu==1.15.0\\n!pip install tensorflow_probability==0.7.0'"
            ]
          },
          "metadata": {
            "tags": []
          },
          "execution_count": 2
        }
      ]
    },
    {
      "cell_type": "markdown",
      "metadata": {
        "id": "xtuCcMcM5h4J"
      },
      "source": [
        "## Data Preprocessing"
      ]
    },
    {
      "cell_type": "code",
      "metadata": {
        "id": "5jZJzyw7T2xl",
        "outputId": "ef8fdcea-a446-42b9-db5a-cd28bbb50f35",
        "colab": {
          "base_uri": "https://localhost:8080/",
          "height": 297
        }
      },
      "source": [
        "#when you have a new data, these are supposed to be merged.\n",
        "#this part is based on jupyter, google colab, but if not you can simply remove 'from google.colab ~, drive.amount ~ ' part.\n",
        "from google.colab import drive\n",
        "from google.colab import files\n",
        "drive.mount('/content/gdrive', force_remount=True)\n",
        "import pandas as pd\n",
        "import numpy as np\n",
        "import gc\n",
        "gc.collect()\n",
        "\n",
        "df_read = 'COVID-19_population.csv'; population_1 = pd.read_csv(df_read)\n",
        "df_read = 'COVID-19_gdp.csv'; gdp_1 = pd.read_csv(df_read)\n",
        "df_read = 'COVID-19_testing.csv'; test_1 = pd.read_csv(df_read)\n",
        "test_1.drop_duplicates()\n",
        "test_1.rename(columns={'Date':'date','testing':'TP1'}, inplace=True)\n",
        "test_1['date'] = pd.to_datetime(test_1['date'], format='%d/%m/%Y')\n",
        "\n",
        "df_read = 'recovered.csv'; df_recovered = pd.read_csv(df_read)\n",
        "df_read = 'confirmed.csv'; df_confirmed = pd.read_csv(df_read)\n",
        "df_read = 'deaths.csv'; df_deaths = pd.read_csv(df_read)\n",
        "df_read = 'df_date.csv'; df_date = pd.read_csv(df_read)\n",
        "df_date = pd.to_datetime(df_date['date'], format='%d/%m/%y')\n",
        "\n",
        "df_confirmed['Region'] = df_confirmed[['Country/Region', 'Province/State']].astype(str).apply(lambda x: ' '.join(x), axis=1)\n",
        "df_place = df_confirmed[['Country/Region', 'Province/State','Territories','Region', 'Lat', 'Long']]\n",
        "df_place = df_place.drop_duplicates()\n",
        "df_recovered['Region'] = df_recovered[['Country/Region', 'Province/State']].astype(str).apply(lambda x: ' '.join(x), axis=1)\n",
        "df_deaths['Region'] = df_deaths[['Country/Region', 'Province/State']].astype(str).apply(lambda x: ' '.join(x), axis=1)\n",
        "\n",
        "df_read = 'LifeExpectancy.csv'; df_life = pd.read_csv(df_read)"
      ],
      "execution_count": null,
      "outputs": [
        {
          "output_type": "stream",
          "text": [
            "Mounted at /content/gdrive\n"
          ],
          "name": "stdout"
        },
        {
          "output_type": "execute_result",
          "data": {
            "text/html": [
              "<div>\n",
              "<style scoped>\n",
              "    .dataframe tbody tr th:only-of-type {\n",
              "        vertical-align: middle;\n",
              "    }\n",
              "\n",
              "    .dataframe tbody tr th {\n",
              "        vertical-align: top;\n",
              "    }\n",
              "\n",
              "    .dataframe thead th {\n",
              "        text-align: right;\n",
              "    }\n",
              "</style>\n",
              "<table border=\"1\" class=\"dataframe\">\n",
              "  <thead>\n",
              "    <tr style=\"text-align: right;\">\n",
              "      <th></th>\n",
              "      <th>Territories</th>\n",
              "      <th>Province/State</th>\n",
              "      <th>Country/Region</th>\n",
              "      <th>Lat</th>\n",
              "      <th>Long</th>\n",
              "      <th>1/22/20</th>\n",
              "      <th>1/23/20</th>\n",
              "      <th>1/24/20</th>\n",
              "      <th>1/25/20</th>\n",
              "      <th>1/26/20</th>\n",
              "      <th>1/27/20</th>\n",
              "      <th>1/28/20</th>\n",
              "      <th>1/29/20</th>\n",
              "      <th>1/30/20</th>\n",
              "      <th>1/31/20</th>\n",
              "      <th>2/1/20</th>\n",
              "      <th>2/2/20</th>\n",
              "      <th>2/3/20</th>\n",
              "      <th>2/4/20</th>\n",
              "      <th>2/5/20</th>\n",
              "      <th>2/6/20</th>\n",
              "      <th>2/7/20</th>\n",
              "      <th>2/8/20</th>\n",
              "      <th>2/9/20</th>\n",
              "      <th>2/10/20</th>\n",
              "      <th>2/11/20</th>\n",
              "      <th>2/12/20</th>\n",
              "      <th>2/13/20</th>\n",
              "      <th>2/14/20</th>\n",
              "      <th>2/15/20</th>\n",
              "      <th>2/16/20</th>\n",
              "      <th>2/17/20</th>\n",
              "      <th>2/18/20</th>\n",
              "      <th>2/19/20</th>\n",
              "      <th>2/20/20</th>\n",
              "      <th>2/21/20</th>\n",
              "      <th>2/22/20</th>\n",
              "      <th>2/23/20</th>\n",
              "      <th>2/24/20</th>\n",
              "      <th>2/25/20</th>\n",
              "      <th>...</th>\n",
              "      <th>3/2/20</th>\n",
              "      <th>3/3/20</th>\n",
              "      <th>3/4/20</th>\n",
              "      <th>3/5/20</th>\n",
              "      <th>3/6/20</th>\n",
              "      <th>3/7/20</th>\n",
              "      <th>3/8/20</th>\n",
              "      <th>3/9/20</th>\n",
              "      <th>3/10/20</th>\n",
              "      <th>3/11/20</th>\n",
              "      <th>3/12/20</th>\n",
              "      <th>3/13/20</th>\n",
              "      <th>3/14/20</th>\n",
              "      <th>3/15/20</th>\n",
              "      <th>3/16/20</th>\n",
              "      <th>3/17/20</th>\n",
              "      <th>3/18/20</th>\n",
              "      <th>3/19/20</th>\n",
              "      <th>3/20/20</th>\n",
              "      <th>3/21/20</th>\n",
              "      <th>3/22/20</th>\n",
              "      <th>3/23/20</th>\n",
              "      <th>3/24/20</th>\n",
              "      <th>3/25/20</th>\n",
              "      <th>3/26/20</th>\n",
              "      <th>3/27/20</th>\n",
              "      <th>3/28/20</th>\n",
              "      <th>3/29/20</th>\n",
              "      <th>3/30/20</th>\n",
              "      <th>3/31/20</th>\n",
              "      <th>4/1/20</th>\n",
              "      <th>4/2/20</th>\n",
              "      <th>4/3/20</th>\n",
              "      <th>4/4/20</th>\n",
              "      <th>4/5/20</th>\n",
              "      <th>4/6/20</th>\n",
              "      <th>4/7/20</th>\n",
              "      <th>4/8/20</th>\n",
              "      <th>4/9/20</th>\n",
              "      <th>Region</th>\n",
              "    </tr>\n",
              "  </thead>\n",
              "  <tbody>\n",
              "    <tr>\n",
              "      <th>0</th>\n",
              "      <td>NaN</td>\n",
              "      <td>NaN</td>\n",
              "      <td>Afghanistan</td>\n",
              "      <td>33.0000</td>\n",
              "      <td>65.0000</td>\n",
              "      <td>0</td>\n",
              "      <td>0</td>\n",
              "      <td>0</td>\n",
              "      <td>0</td>\n",
              "      <td>0</td>\n",
              "      <td>0</td>\n",
              "      <td>0</td>\n",
              "      <td>0</td>\n",
              "      <td>0</td>\n",
              "      <td>0</td>\n",
              "      <td>0</td>\n",
              "      <td>0</td>\n",
              "      <td>0</td>\n",
              "      <td>0</td>\n",
              "      <td>0</td>\n",
              "      <td>0</td>\n",
              "      <td>0</td>\n",
              "      <td>0</td>\n",
              "      <td>0</td>\n",
              "      <td>0</td>\n",
              "      <td>0</td>\n",
              "      <td>0</td>\n",
              "      <td>0</td>\n",
              "      <td>0</td>\n",
              "      <td>0</td>\n",
              "      <td>0</td>\n",
              "      <td>0</td>\n",
              "      <td>0</td>\n",
              "      <td>0</td>\n",
              "      <td>0</td>\n",
              "      <td>0</td>\n",
              "      <td>0</td>\n",
              "      <td>0</td>\n",
              "      <td>1</td>\n",
              "      <td>1</td>\n",
              "      <td>...</td>\n",
              "      <td>1</td>\n",
              "      <td>1</td>\n",
              "      <td>1</td>\n",
              "      <td>1</td>\n",
              "      <td>1</td>\n",
              "      <td>1</td>\n",
              "      <td>4</td>\n",
              "      <td>4</td>\n",
              "      <td>5</td>\n",
              "      <td>7</td>\n",
              "      <td>7</td>\n",
              "      <td>7</td>\n",
              "      <td>11</td>\n",
              "      <td>16</td>\n",
              "      <td>21</td>\n",
              "      <td>22</td>\n",
              "      <td>22</td>\n",
              "      <td>22</td>\n",
              "      <td>24</td>\n",
              "      <td>24</td>\n",
              "      <td>40</td>\n",
              "      <td>40</td>\n",
              "      <td>74</td>\n",
              "      <td>84</td>\n",
              "      <td>94</td>\n",
              "      <td>110</td>\n",
              "      <td>110</td>\n",
              "      <td>120</td>\n",
              "      <td>170</td>\n",
              "      <td>174</td>\n",
              "      <td>237</td>\n",
              "      <td>273</td>\n",
              "      <td>281</td>\n",
              "      <td>299</td>\n",
              "      <td>349</td>\n",
              "      <td>367</td>\n",
              "      <td>423</td>\n",
              "      <td>444</td>\n",
              "      <td>484</td>\n",
              "      <td>Afghanistan nan</td>\n",
              "    </tr>\n",
              "    <tr>\n",
              "      <th>1</th>\n",
              "      <td>NaN</td>\n",
              "      <td>NaN</td>\n",
              "      <td>Albania</td>\n",
              "      <td>41.1533</td>\n",
              "      <td>20.1683</td>\n",
              "      <td>0</td>\n",
              "      <td>0</td>\n",
              "      <td>0</td>\n",
              "      <td>0</td>\n",
              "      <td>0</td>\n",
              "      <td>0</td>\n",
              "      <td>0</td>\n",
              "      <td>0</td>\n",
              "      <td>0</td>\n",
              "      <td>0</td>\n",
              "      <td>0</td>\n",
              "      <td>0</td>\n",
              "      <td>0</td>\n",
              "      <td>0</td>\n",
              "      <td>0</td>\n",
              "      <td>0</td>\n",
              "      <td>0</td>\n",
              "      <td>0</td>\n",
              "      <td>0</td>\n",
              "      <td>0</td>\n",
              "      <td>0</td>\n",
              "      <td>0</td>\n",
              "      <td>0</td>\n",
              "      <td>0</td>\n",
              "      <td>0</td>\n",
              "      <td>0</td>\n",
              "      <td>0</td>\n",
              "      <td>0</td>\n",
              "      <td>0</td>\n",
              "      <td>0</td>\n",
              "      <td>0</td>\n",
              "      <td>0</td>\n",
              "      <td>0</td>\n",
              "      <td>0</td>\n",
              "      <td>0</td>\n",
              "      <td>...</td>\n",
              "      <td>0</td>\n",
              "      <td>0</td>\n",
              "      <td>0</td>\n",
              "      <td>0</td>\n",
              "      <td>0</td>\n",
              "      <td>0</td>\n",
              "      <td>0</td>\n",
              "      <td>2</td>\n",
              "      <td>10</td>\n",
              "      <td>12</td>\n",
              "      <td>23</td>\n",
              "      <td>33</td>\n",
              "      <td>38</td>\n",
              "      <td>42</td>\n",
              "      <td>51</td>\n",
              "      <td>55</td>\n",
              "      <td>59</td>\n",
              "      <td>64</td>\n",
              "      <td>70</td>\n",
              "      <td>76</td>\n",
              "      <td>89</td>\n",
              "      <td>104</td>\n",
              "      <td>123</td>\n",
              "      <td>146</td>\n",
              "      <td>174</td>\n",
              "      <td>186</td>\n",
              "      <td>197</td>\n",
              "      <td>212</td>\n",
              "      <td>223</td>\n",
              "      <td>243</td>\n",
              "      <td>259</td>\n",
              "      <td>277</td>\n",
              "      <td>304</td>\n",
              "      <td>333</td>\n",
              "      <td>361</td>\n",
              "      <td>377</td>\n",
              "      <td>383</td>\n",
              "      <td>400</td>\n",
              "      <td>409</td>\n",
              "      <td>Albania nan</td>\n",
              "    </tr>\n",
              "    <tr>\n",
              "      <th>2</th>\n",
              "      <td>NaN</td>\n",
              "      <td>NaN</td>\n",
              "      <td>Algeria</td>\n",
              "      <td>28.0339</td>\n",
              "      <td>1.6596</td>\n",
              "      <td>0</td>\n",
              "      <td>0</td>\n",
              "      <td>0</td>\n",
              "      <td>0</td>\n",
              "      <td>0</td>\n",
              "      <td>0</td>\n",
              "      <td>0</td>\n",
              "      <td>0</td>\n",
              "      <td>0</td>\n",
              "      <td>0</td>\n",
              "      <td>0</td>\n",
              "      <td>0</td>\n",
              "      <td>0</td>\n",
              "      <td>0</td>\n",
              "      <td>0</td>\n",
              "      <td>0</td>\n",
              "      <td>0</td>\n",
              "      <td>0</td>\n",
              "      <td>0</td>\n",
              "      <td>0</td>\n",
              "      <td>0</td>\n",
              "      <td>0</td>\n",
              "      <td>0</td>\n",
              "      <td>0</td>\n",
              "      <td>0</td>\n",
              "      <td>0</td>\n",
              "      <td>0</td>\n",
              "      <td>0</td>\n",
              "      <td>0</td>\n",
              "      <td>0</td>\n",
              "      <td>0</td>\n",
              "      <td>0</td>\n",
              "      <td>0</td>\n",
              "      <td>0</td>\n",
              "      <td>1</td>\n",
              "      <td>...</td>\n",
              "      <td>3</td>\n",
              "      <td>5</td>\n",
              "      <td>12</td>\n",
              "      <td>12</td>\n",
              "      <td>17</td>\n",
              "      <td>17</td>\n",
              "      <td>19</td>\n",
              "      <td>20</td>\n",
              "      <td>20</td>\n",
              "      <td>20</td>\n",
              "      <td>24</td>\n",
              "      <td>26</td>\n",
              "      <td>37</td>\n",
              "      <td>48</td>\n",
              "      <td>54</td>\n",
              "      <td>60</td>\n",
              "      <td>74</td>\n",
              "      <td>87</td>\n",
              "      <td>90</td>\n",
              "      <td>139</td>\n",
              "      <td>201</td>\n",
              "      <td>230</td>\n",
              "      <td>264</td>\n",
              "      <td>302</td>\n",
              "      <td>367</td>\n",
              "      <td>409</td>\n",
              "      <td>454</td>\n",
              "      <td>511</td>\n",
              "      <td>584</td>\n",
              "      <td>716</td>\n",
              "      <td>847</td>\n",
              "      <td>986</td>\n",
              "      <td>1171</td>\n",
              "      <td>1251</td>\n",
              "      <td>1320</td>\n",
              "      <td>1423</td>\n",
              "      <td>1468</td>\n",
              "      <td>1572</td>\n",
              "      <td>1666</td>\n",
              "      <td>Algeria nan</td>\n",
              "    </tr>\n",
              "    <tr>\n",
              "      <th>3</th>\n",
              "      <td>NaN</td>\n",
              "      <td>NaN</td>\n",
              "      <td>Andorra</td>\n",
              "      <td>42.5063</td>\n",
              "      <td>1.5218</td>\n",
              "      <td>0</td>\n",
              "      <td>0</td>\n",
              "      <td>0</td>\n",
              "      <td>0</td>\n",
              "      <td>0</td>\n",
              "      <td>0</td>\n",
              "      <td>0</td>\n",
              "      <td>0</td>\n",
              "      <td>0</td>\n",
              "      <td>0</td>\n",
              "      <td>0</td>\n",
              "      <td>0</td>\n",
              "      <td>0</td>\n",
              "      <td>0</td>\n",
              "      <td>0</td>\n",
              "      <td>0</td>\n",
              "      <td>0</td>\n",
              "      <td>0</td>\n",
              "      <td>0</td>\n",
              "      <td>0</td>\n",
              "      <td>0</td>\n",
              "      <td>0</td>\n",
              "      <td>0</td>\n",
              "      <td>0</td>\n",
              "      <td>0</td>\n",
              "      <td>0</td>\n",
              "      <td>0</td>\n",
              "      <td>0</td>\n",
              "      <td>0</td>\n",
              "      <td>0</td>\n",
              "      <td>0</td>\n",
              "      <td>0</td>\n",
              "      <td>0</td>\n",
              "      <td>0</td>\n",
              "      <td>0</td>\n",
              "      <td>...</td>\n",
              "      <td>1</td>\n",
              "      <td>1</td>\n",
              "      <td>1</td>\n",
              "      <td>1</td>\n",
              "      <td>1</td>\n",
              "      <td>1</td>\n",
              "      <td>1</td>\n",
              "      <td>1</td>\n",
              "      <td>1</td>\n",
              "      <td>1</td>\n",
              "      <td>1</td>\n",
              "      <td>1</td>\n",
              "      <td>1</td>\n",
              "      <td>1</td>\n",
              "      <td>2</td>\n",
              "      <td>39</td>\n",
              "      <td>39</td>\n",
              "      <td>53</td>\n",
              "      <td>75</td>\n",
              "      <td>88</td>\n",
              "      <td>113</td>\n",
              "      <td>133</td>\n",
              "      <td>164</td>\n",
              "      <td>188</td>\n",
              "      <td>224</td>\n",
              "      <td>267</td>\n",
              "      <td>308</td>\n",
              "      <td>334</td>\n",
              "      <td>370</td>\n",
              "      <td>376</td>\n",
              "      <td>390</td>\n",
              "      <td>428</td>\n",
              "      <td>439</td>\n",
              "      <td>466</td>\n",
              "      <td>501</td>\n",
              "      <td>525</td>\n",
              "      <td>545</td>\n",
              "      <td>564</td>\n",
              "      <td>583</td>\n",
              "      <td>Andorra nan</td>\n",
              "    </tr>\n",
              "    <tr>\n",
              "      <th>4</th>\n",
              "      <td>NaN</td>\n",
              "      <td>NaN</td>\n",
              "      <td>Angola</td>\n",
              "      <td>-11.2027</td>\n",
              "      <td>17.8739</td>\n",
              "      <td>0</td>\n",
              "      <td>0</td>\n",
              "      <td>0</td>\n",
              "      <td>0</td>\n",
              "      <td>0</td>\n",
              "      <td>0</td>\n",
              "      <td>0</td>\n",
              "      <td>0</td>\n",
              "      <td>0</td>\n",
              "      <td>0</td>\n",
              "      <td>0</td>\n",
              "      <td>0</td>\n",
              "      <td>0</td>\n",
              "      <td>0</td>\n",
              "      <td>0</td>\n",
              "      <td>0</td>\n",
              "      <td>0</td>\n",
              "      <td>0</td>\n",
              "      <td>0</td>\n",
              "      <td>0</td>\n",
              "      <td>0</td>\n",
              "      <td>0</td>\n",
              "      <td>0</td>\n",
              "      <td>0</td>\n",
              "      <td>0</td>\n",
              "      <td>0</td>\n",
              "      <td>0</td>\n",
              "      <td>0</td>\n",
              "      <td>0</td>\n",
              "      <td>0</td>\n",
              "      <td>0</td>\n",
              "      <td>0</td>\n",
              "      <td>0</td>\n",
              "      <td>0</td>\n",
              "      <td>0</td>\n",
              "      <td>...</td>\n",
              "      <td>0</td>\n",
              "      <td>0</td>\n",
              "      <td>0</td>\n",
              "      <td>0</td>\n",
              "      <td>0</td>\n",
              "      <td>0</td>\n",
              "      <td>0</td>\n",
              "      <td>0</td>\n",
              "      <td>0</td>\n",
              "      <td>0</td>\n",
              "      <td>0</td>\n",
              "      <td>0</td>\n",
              "      <td>0</td>\n",
              "      <td>0</td>\n",
              "      <td>0</td>\n",
              "      <td>0</td>\n",
              "      <td>0</td>\n",
              "      <td>0</td>\n",
              "      <td>1</td>\n",
              "      <td>2</td>\n",
              "      <td>2</td>\n",
              "      <td>3</td>\n",
              "      <td>3</td>\n",
              "      <td>3</td>\n",
              "      <td>4</td>\n",
              "      <td>4</td>\n",
              "      <td>5</td>\n",
              "      <td>7</td>\n",
              "      <td>7</td>\n",
              "      <td>7</td>\n",
              "      <td>8</td>\n",
              "      <td>8</td>\n",
              "      <td>8</td>\n",
              "      <td>10</td>\n",
              "      <td>14</td>\n",
              "      <td>16</td>\n",
              "      <td>17</td>\n",
              "      <td>19</td>\n",
              "      <td>19</td>\n",
              "      <td>Angola nan</td>\n",
              "    </tr>\n",
              "  </tbody>\n",
              "</table>\n",
              "<p>5 rows × 85 columns</p>\n",
              "</div>"
            ],
            "text/plain": [
              "  Territories Province/State Country/Region  ...  4/8/20  4/9/20           Region\n",
              "0         NaN            NaN    Afghanistan  ...     444     484  Afghanistan nan\n",
              "1         NaN            NaN        Albania  ...     400     409      Albania nan\n",
              "2         NaN            NaN        Algeria  ...    1572    1666      Algeria nan\n",
              "3         NaN            NaN        Andorra  ...     564     583      Andorra nan\n",
              "4         NaN            NaN         Angola  ...      19      19       Angola nan\n",
              "\n",
              "[5 rows x 85 columns]"
            ]
          },
          "metadata": {
            "tags": []
          },
          "execution_count": 2
        }
      ]
    },
    {
      "cell_type": "code",
      "metadata": {
        "id": "sno-K8x92bH3",
        "outputId": "a3dfa7d5-d65e-4db4-df9a-d954429c3fbe",
        "colab": {
          "base_uri": "https://localhost:8080/",
          "height": 34
        }
      },
      "source": [
        "len(np.unique(df_place['Country/Region']))"
      ],
      "execution_count": null,
      "outputs": [
        {
          "output_type": "execute_result",
          "data": {
            "text/plain": [
              "208"
            ]
          },
          "metadata": {
            "tags": []
          },
          "execution_count": 35
        }
      ]
    },
    {
      "cell_type": "code",
      "metadata": {
        "id": "p2bJe0eajfgt"
      },
      "source": [
        "# select the time frame you want to see\n",
        "# the country names are sometimes differently written per documents. It's recommended to check those.\n",
        "# also, when you have a time data from csv files, sometimes, these are written incorrectly. It's also recommended to be checked.\n",
        "# checking the index can be also one of the things we can do.\n",
        "\n",
        "time = ['1/22/20', '1/23/20', '1/24/20', '1/25/20', '1/26/20', '1/27/20', '1/28/20', '1/29/20',\n",
        "       '1/30/20', '1/31/20', '2/1/20', '2/2/20', '2/3/20', '2/4/20', '2/5/20', '2/6/20', '2/7/20', '2/8/20', '2/9/20', '2/10/20', '2/11/20', '2/12/20',\n",
        "       '2/13/20', '2/14/20', '2/15/20', '2/16/20', '2/17/20', '2/18/20', '2/19/20', '2/20/20', '2/21/20', '2/22/20', '2/23/20', '2/24/20',\n",
        "       '2/25/20', '2/26/20', '2/27/20', '2/28/20', '2/29/20', '3/1/20', '3/2/20', '3/3/20', '3/4/20', '3/5/20', '3/6/20', '3/7/20', '3/8/20',\n",
        "       '3/9/20', '3/10/20', '3/11/20', '3/12/20', '3/13/20', '3/14/20', '3/15/20', '3/16/20', '3/17/20', '3/18/20', '3/19/20', '3/20/20',\n",
        "       '3/21/20', '3/22/20', '3/23/20', '3/24/20', '3/25/20', '3/26/20', '3/27/20', '3/28/20', '3/29/20', '3/30/20', '3/31/20', '4/1/20',\n",
        "       '4/2/20', '4/3/20', '4/4/20', '4/5/20', '4/6/20', '4/7/20'] \n",
        "df_confirmed = df_confirmed.groupby(['Country/Region', 'Lat', 'Long'])[time].sum().reset_index().drop_duplicates()\n",
        "df_recovered = df_recovered.groupby(['Country/Region', 'Lat', 'Long'])[time].sum().reset_index().drop_duplicates()\n",
        "df_deaths = df_deaths.groupby(['Country/Region', 'Lat', 'Long'])[time].sum().reset_index().drop_duplicates()\n"
      ],
      "execution_count": null,
      "outputs": []
    },
    {
      "cell_type": "code",
      "metadata": {
        "id": "oagAce6ozpnX",
        "outputId": "e8f4b660-0fef-408c-f1c0-d3947deb219b",
        "colab": {
          "base_uri": "https://localhost:8080/",
          "height": 197
        }
      },
      "source": [
        "df_read = 'Lockdown.csv'; Lockdown_d3_1 = pd.read_csv(df_read)\n",
        "df_read = 'Travel.csv'; Travel_d3_1 = pd.read_csv(df_read)\n",
        "Lockdown_s3_1 = pd.read_csv(df_read)\n",
        "Travel_s3_1 = pd.read_csv(df_read)\n",
        "Travel_s3_1.head()"
      ],
      "execution_count": null,
      "outputs": [
        {
          "output_type": "execute_result",
          "data": {
            "text/html": [
              "<div>\n",
              "<style scoped>\n",
              "    .dataframe tbody tr th:only-of-type {\n",
              "        vertical-align: middle;\n",
              "    }\n",
              "\n",
              "    .dataframe tbody tr th {\n",
              "        vertical-align: top;\n",
              "    }\n",
              "\n",
              "    .dataframe thead th {\n",
              "        text-align: right;\n",
              "    }\n",
              "</style>\n",
              "<table border=\"1\" class=\"dataframe\">\n",
              "  <thead>\n",
              "    <tr style=\"text-align: right;\">\n",
              "      <th></th>\n",
              "      <th>Country/Region</th>\n",
              "      <th>TC1</th>\n",
              "      <th>TC2</th>\n",
              "      <th>TW1</th>\n",
              "      <th>TW2</th>\n",
              "    </tr>\n",
              "  </thead>\n",
              "  <tbody>\n",
              "    <tr>\n",
              "      <th>0</th>\n",
              "      <td>Afghanistan</td>\n",
              "      <td>21.0</td>\n",
              "      <td>NaN</td>\n",
              "      <td>76</td>\n",
              "      <td>99</td>\n",
              "    </tr>\n",
              "    <tr>\n",
              "      <th>1</th>\n",
              "      <td>Albania</td>\n",
              "      <td>0.0</td>\n",
              "      <td>8.0</td>\n",
              "      <td>68</td>\n",
              "      <td>76</td>\n",
              "    </tr>\n",
              "    <tr>\n",
              "      <th>2</th>\n",
              "      <td>Algeria</td>\n",
              "      <td>NaN</td>\n",
              "      <td>NaN</td>\n",
              "      <td>99</td>\n",
              "      <td>99</td>\n",
              "    </tr>\n",
              "    <tr>\n",
              "      <th>3</th>\n",
              "      <td>Andorra</td>\n",
              "      <td>NaN</td>\n",
              "      <td>NaN</td>\n",
              "      <td>99</td>\n",
              "      <td>99</td>\n",
              "    </tr>\n",
              "    <tr>\n",
              "      <th>4</th>\n",
              "      <td>Angola</td>\n",
              "      <td>-1.0</td>\n",
              "      <td>-1.0</td>\n",
              "      <td>80</td>\n",
              "      <td>80</td>\n",
              "    </tr>\n",
              "  </tbody>\n",
              "</table>\n",
              "</div>"
            ],
            "text/plain": [
              "  Country/Region   TC1  TC2  TW1  TW2\n",
              "0    Afghanistan  21.0  NaN   76   99\n",
              "1        Albania   0.0  8.0   68   76\n",
              "2        Algeria   NaN  NaN   99   99\n",
              "3        Andorra   NaN  NaN   99   99\n",
              "4         Angola  -1.0 -1.0   80   80"
            ]
          },
          "metadata": {
            "tags": []
          },
          "execution_count": 5
        }
      ]
    },
    {
      "cell_type": "code",
      "metadata": {
        "id": "sp59ZYHAp7VK",
        "outputId": "116dfb34-450e-4337-b81f-975aff59d3d6",
        "colab": {
          "base_uri": "https://localhost:8080/",
          "height": 372
        }
      },
      "source": [
        "# see how many countries had small numbers of patients or no serious actions at all.\n",
        "# so that when we compare the results and interpret the things, the interpretation can be less over affected by the number of countries with those cases.\n",
        "Lockdown_s3_1[Lockdown_s3_1.LC1 < 0]['Country/Region'].value_counts()"
      ],
      "execution_count": null,
      "outputs": [
        {
          "output_type": "execute_result",
          "data": {
            "text/plain": [
              "El Salvador                         1\n",
              "Anguilla                            1\n",
              "Grenada                             1\n",
              "Sao Tome and Principe               1\n",
              "Latvia                              1\n",
              "Romania                             1\n",
              "MS Zaandam                          1\n",
              "Mongolia                            1\n",
              "Slovakia                            1\n",
              "Mali                                1\n",
              "Zimbabwe                            1\n",
              "Malawi                              1\n",
              "South Sudan                         1\n",
              "Bonaire, Sint Eustatius and Saba    1\n",
              "Georgia                             1\n",
              "Sierra Leone                        1\n",
              "Syria                               1\n",
              "Falkland Islands (Malvinas)         1\n",
              "Botswana                            1\n",
              "Name: Country/Region, dtype: int64"
            ]
          },
          "metadata": {
            "tags": []
          },
          "execution_count": 6
        }
      ]
    },
    {
      "cell_type": "code",
      "metadata": {
        "id": "5vl_YF7AuZkL"
      },
      "source": [
        "df_confirmed = df_confirmed.drop(columns=['Lat', 'Long'])\n",
        "df_recovered = df_recovered.drop(columns=['Lat', 'Long'])\n",
        "df_deaths = df_deaths.drop(columns=['Lat', 'Long'])"
      ],
      "execution_count": null,
      "outputs": []
    },
    {
      "cell_type": "code",
      "metadata": {
        "id": "4jJdclcMy-Em"
      },
      "source": [
        "Lockdown_d3_1_unpivoted = Lockdown_d3_1.melt(id_vars=['Country/Region'], var_name='date', value_name='lockdown_d3')\n",
        "Travel_d3_1_unpivoted = Travel_d3_1.melt(id_vars=['Country/Region'], var_name='date', value_name='travel_d3')\n",
        "Lockdown_s3_1_unpivoted = Lockdown_s3_1.melt(id_vars=['Country/Region'], var_name='date', value_name='lockdown_s3')\n",
        "Travel_s3_1_unpivoted = Travel_s3_1.melt(id_vars=['Country/Region'], var_name='date', value_name='travel_s3')\n",
        "\n",
        "Lockdown_d3_1_unpivoted['date'] = pd.to_datetime(Lockdown_d3_1_unpivoted['date'], format=\"%d/%m/%Y\")\n",
        "Travel_d3_1_unpivoted['date'] = pd.to_datetime(Travel_d3_1_unpivoted['date'], format=\"%d/%m/%Y\")\n",
        "\n",
        "df_confirmed_unpivoted = df_confirmed.melt(id_vars=['Country/Region'], var_name='date', value_name='confirmed')\n",
        "df_recovered_unpivoted = df_recovered.melt(id_vars=['Country/Region'], var_name='date', value_name='recovered')\n",
        "df_deaths_unpivoted = df_deaths.melt(id_vars=['Country/Region'], var_name='date', value_name='deaths')\n",
        "\n",
        "df_confirmed_unpivoted['date'] = pd.to_datetime(df_confirmed_unpivoted['date'], format='%m/%d/%y')\n",
        "df_recovered_unpivoted['date'] = pd.to_datetime(df_recovered_unpivoted['date'], format='%m/%d/%y')\n",
        "df_deaths_unpivoted['date'] = pd.to_datetime(df_deaths_unpivoted['date'], format='%m/%d/%y')\n",
        "\n",
        "df_unpivoted0 = df_confirmed_unpivoted.merge(df_date, how='left', left_on=['date'], right_on=['date'])\n",
        "df_unpivoted1 = df_unpivoted0.merge(df_recovered_unpivoted, how='left', left_on=['Country/Region', 'date'], right_on=['Country/Region', 'date'])\n",
        "df_unpivoted2 = df_unpivoted1.merge(df_deaths_unpivoted, how='left', left_on=['Country/Region', 'date'], right_on=['Country/Region', 'date'])\n"
      ],
      "execution_count": null,
      "outputs": []
    },
    {
      "cell_type": "code",
      "metadata": {
        "id": "1QUTpsa4aK9h",
        "outputId": "f3e67a22-80cf-4bbc-e986-97093083dae4",
        "colab": {
          "base_uri": "https://localhost:8080/",
          "height": 406
        }
      },
      "source": [
        "# For this type of studies, conventaionally interpolation was normally with linear or the most recent, but it's good to think the direction of interpolation.\n",
        "Lockdown_d3_1_unpivoted['lockdown_d3'] = (Lockdown_d3_1_unpivoted.groupby('Country/Region')['lockdown_d3'].apply(lambda x: x.interpolate(method='linear', limit_direction='forward')))\n",
        "Travel_d3_1_unpivoted['travel_d3'] = (Travel_d3_1_unpivoted.groupby('Country/Region')['travel_d3'].apply(lambda x: x.interpolate(method='linear', limit_direction='forward')))\n",
        "Lockdown_d3_1_unpivoted['lockdown_d3'] = Lockdown_d3_1_unpivoted['lockdown_d3'].fillna(0)\n",
        "Travel_d3_1_unpivoted['travel_d3'] = Travel_d3_1_unpivoted['travel_d3'].fillna(0)"
      ],
      "execution_count": null,
      "outputs": [
        {
          "output_type": "execute_result",
          "data": {
            "text/html": [
              "<div>\n",
              "<style scoped>\n",
              "    .dataframe tbody tr th:only-of-type {\n",
              "        vertical-align: middle;\n",
              "    }\n",
              "\n",
              "    .dataframe tbody tr th {\n",
              "        vertical-align: top;\n",
              "    }\n",
              "\n",
              "    .dataframe thead th {\n",
              "        text-align: right;\n",
              "    }\n",
              "</style>\n",
              "<table border=\"1\" class=\"dataframe\">\n",
              "  <thead>\n",
              "    <tr style=\"text-align: right;\">\n",
              "      <th></th>\n",
              "      <th>Country/Region</th>\n",
              "      <th>date</th>\n",
              "      <th>lockdown_d3</th>\n",
              "    </tr>\n",
              "  </thead>\n",
              "  <tbody>\n",
              "    <tr>\n",
              "      <th>0</th>\n",
              "      <td>Afghanistan</td>\n",
              "      <td>2020-01-03</td>\n",
              "      <td>0.0</td>\n",
              "    </tr>\n",
              "    <tr>\n",
              "      <th>1</th>\n",
              "      <td>Albania</td>\n",
              "      <td>2020-01-03</td>\n",
              "      <td>0.0</td>\n",
              "    </tr>\n",
              "    <tr>\n",
              "      <th>2</th>\n",
              "      <td>Algeria</td>\n",
              "      <td>2020-01-03</td>\n",
              "      <td>0.0</td>\n",
              "    </tr>\n",
              "    <tr>\n",
              "      <th>3</th>\n",
              "      <td>Andorra</td>\n",
              "      <td>2020-01-03</td>\n",
              "      <td>0.0</td>\n",
              "    </tr>\n",
              "    <tr>\n",
              "      <th>4</th>\n",
              "      <td>Angola</td>\n",
              "      <td>2020-01-03</td>\n",
              "      <td>0.0</td>\n",
              "    </tr>\n",
              "    <tr>\n",
              "      <th>...</th>\n",
              "      <td>...</td>\n",
              "      <td>...</td>\n",
              "      <td>...</td>\n",
              "    </tr>\n",
              "    <tr>\n",
              "      <th>20539</th>\n",
              "      <td>Falkland Islands (Malvinas)</td>\n",
              "      <td>2020-04-07</td>\n",
              "      <td>1.8</td>\n",
              "    </tr>\n",
              "    <tr>\n",
              "      <th>20540</th>\n",
              "      <td>Gibraltar</td>\n",
              "      <td>2020-04-07</td>\n",
              "      <td>0.0</td>\n",
              "    </tr>\n",
              "    <tr>\n",
              "      <th>20541</th>\n",
              "      <td>Isle of Man</td>\n",
              "      <td>2020-04-07</td>\n",
              "      <td>1.8</td>\n",
              "    </tr>\n",
              "    <tr>\n",
              "      <th>20542</th>\n",
              "      <td>Montserrat</td>\n",
              "      <td>2020-04-07</td>\n",
              "      <td>0.0</td>\n",
              "    </tr>\n",
              "    <tr>\n",
              "      <th>20543</th>\n",
              "      <td>Turks and Caicos Islands</td>\n",
              "      <td>2020-04-07</td>\n",
              "      <td>2.0</td>\n",
              "    </tr>\n",
              "  </tbody>\n",
              "</table>\n",
              "<p>20544 rows × 3 columns</p>\n",
              "</div>"
            ],
            "text/plain": [
              "                    Country/Region       date  lockdown_d3\n",
              "0                      Afghanistan 2020-01-03          0.0\n",
              "1                          Albania 2020-01-03          0.0\n",
              "2                          Algeria 2020-01-03          0.0\n",
              "3                          Andorra 2020-01-03          0.0\n",
              "4                           Angola 2020-01-03          0.0\n",
              "...                            ...        ...          ...\n",
              "20539  Falkland Islands (Malvinas) 2020-04-07          1.8\n",
              "20540                    Gibraltar 2020-04-07          0.0\n",
              "20541                  Isle of Man 2020-04-07          1.8\n",
              "20542                   Montserrat 2020-04-07          0.0\n",
              "20543     Turks and Caicos Islands 2020-04-07          2.0\n",
              "\n",
              "[20544 rows x 3 columns]"
            ]
          },
          "metadata": {
            "tags": []
          },
          "execution_count": 10
        }
      ]
    },
    {
      "cell_type": "code",
      "metadata": {
        "id": "B-AAEvs3aGwl"
      },
      "source": [
        "df_unpivoted3 = df_unpivoted2.merge(Lockdown_d3_1_unpivoted, how='left', left_on=['Country/Region', 'date'], right_on=['Country/Region', 'date'])\n",
        "df_unpivoted4 = df_unpivoted3.merge(Travel_d3_1_unpivoted, how='left', left_on=['Country/Region', 'date'], right_on=['Country/Region', 'date'])\n",
        "\n",
        "df_unpivoted4[['confirmed','recovered','deaths']] = df_unpivoted4.groupby('Country/Region')[['confirmed','recovered','deaths']].apply(lambda x: x.interpolate(method='linear', limit_direction='forward'))\n",
        "df_unpivoted4[['confirmed','recovered','deaths']] = df_unpivoted4.groupby('Country/Region')[['confirmed','recovered','deaths']].transform(lambda x: x.rolling(3, 1).mean())\n",
        "df_unpivoted4[['confirmed','recovered','deaths']] = df_unpivoted4[['confirmed','recovered','deaths']].fillna(0.0) \n",
        "\n",
        "df_unpivoted4[['lockdown_d3','travel_d3']] = df_unpivoted4[['lockdown_d3','travel_d3']].fillna(0)\n",
        "df_unpivoted4 = df_unpivoted4.sort_values(['Country/Region', 'date'])\n",
        "\n",
        "df_unpivoted3 = df_unpivoted2.merge(Lockdown_d3_1_unpivoted, how='left', left_on=['Country/Region', 'date'], right_on=['Country/Region', 'date'])\n",
        "df_unpivoted4 = df_unpivoted3.merge(Travel_d3_1_unpivoted, how='left', left_on=['Country/Region', 'date'], right_on=['Country/Region', 'date'])\n",
        "df_unpivoted4 = df_unpivoted4.reset_index(drop=True)\n",
        "df_unpivoted4.head(2)"
      ],
      "execution_count": null,
      "outputs": []
    },
    {
      "cell_type": "code",
      "metadata": {
        "id": "WefnSf1GZI36"
      },
      "source": [
        "#we removed the previous data which no longer useful because of the memory problems.\n",
        "del df_recovered, df_confirmed, df_deaths, Lockdown_d3_1, Travel_d3_1\n",
        "del df_confirmed_unpivoted, df_recovered_unpivoted, df_deaths_unpivoted\n",
        "del df_unpivoted0, df_unpivoted1, df_unpivoted2, df_unpivoted3"
      ],
      "execution_count": null,
      "outputs": []
    },
    {
      "cell_type": "code",
      "metadata": {
        "id": "okx2eo8s1akB"
      },
      "source": [
        "# start to merge every components in one data file.\n",
        "df_unpivoted4 = df_unpivoted4.merge(df_place[['Country/Region', 'Lat', 'Long']], how='left', left_on=['Country/Region'], right_on=['Country/Region'])\n",
        "df_unpivoted4 = df_unpivoted4.merge(population_1, how='left', left_on=['Country/Region'], right_on=['Country/Region'])\n",
        "df_unpivoted4 = df_unpivoted4.merge(gdp_1, how='left', left_on=['Country/Region'], right_on=['Country/Region'])\n",
        "df_unpivoted4 = df_unpivoted4.merge(test_1, how='left', left_on=['Country/Region', 'date'], right_on=['Country/Region', 'date'])\n",
        "df_unpivoted4 = df_unpivoted4.merge(df_life, how='left', left_on=['Country/Region'], right_on=['Country/Region'])\n",
        "\n",
        "df_unpivoted4 = df_unpivoted4.sort_values(['Country/Region', 'date'])\n",
        "df_unpivoted4 = df_unpivoted4.drop_duplicates()"
      ],
      "execution_count": null,
      "outputs": []
    },
    {
      "cell_type": "code",
      "metadata": {
        "id": "arrygmd3uJFg"
      },
      "source": [
        "# cases per population (1000)\n",
        "# for severity, we check that at the last day of the observation which was 2020-04-07 for us.\n",
        "\n",
        "df_unpivoted4['confirmed_outof_pp'] = df_unpivoted4['confirmed']/df_unpivoted4['PP']*1000\n",
        "df_unpivoted4['recovered_outof_pp'] = df_unpivoted4['recovered']/df_unpivoted4['PP']*1000\n",
        "df_unpivoted4['deaths_outof_pp'] = df_unpivoted4['deaths']/df_unpivoted4['PP']*1000\n",
        "\n",
        "df_unpivoted4['deaths_outof_confirmed'] = df_unpivoted4['deaths']/df_unpivoted4['confirmed']\n",
        "df_unpivoted4['recovered_outof_confirmed'] = df_unpivoted4['recovered']/df_unpivoted4['confirmed']\n",
        "\n",
        "df_unpivoted4 = df_unpivoted4.sort_values(['Country/Region', 'date'])\n",
        "df_unpivoted4 = df_unpivoted4.reset_index(drop=True)\n",
        "\n",
        "df_death_sign4_not0 = pd.DataFrame(pd.qcut(df_unpivoted4[(df_unpivoted4['date'] == '2020-04-07') & (df_unpivoted4['deaths_outof_pp'] != 0)]['deaths_outof_pp'], 3, labels = [1,2,3]))\n",
        "df_death_sign4_not0.rename(columns={'deaths_outof_pp':'sign4'}, inplace=True)\n",
        "df_death_sign4_0 = pd.DataFrame(pd.qcut(df_unpivoted4[(df_unpivoted4['date'] == '2020-04-07') & (df_unpivoted4['deaths_outof_pp'] == 0)]['deaths_outof_pp'], 1, labels = [0]))\n",
        "df_death_sign4_0.rename(columns={'deaths_outof_pp':'sign4'}, inplace=True)\n",
        "\n",
        "df_death_country_not0 = pd.DataFrame(df_unpivoted4[(df_unpivoted4['date'] == '2020-04-07') & (df_unpivoted4['deaths_outof_pp'] != 0)]['Country/Region'])\n",
        "df_death_country_0 = pd.DataFrame(df_unpivoted4[(df_unpivoted4['date'] == '2020-04-07') & (df_unpivoted4['deaths_outof_pp'] == 0)]['Country/Region'])\n",
        "df_death_sign4_country_not0 = pd.concat([df_death_country_not0,df_death_sign4_not0], axis = 1)\n",
        "df_death_sign4_country_0 = pd.concat([df_death_country_0,df_death_sign4_0], axis = 1)\n",
        "df_death_sign4_country = pd.concat([df_death_sign4_country_not0,df_death_sign4_country_0])\n",
        "\n",
        "df_unpivoted4 = df_unpivoted4.merge(df_death_sign4_country, how='left', left_on=['Country/Region'], right_on=['Country/Region'])\n"
      ],
      "execution_count": null,
      "outputs": []
    },
    {
      "cell_type": "code",
      "metadata": {
        "id": "-3UMASEpsVXO"
      },
      "source": [
        "## if there is a ready data to upload"
      ],
      "execution_count": null,
      "outputs": []
    },
    {
      "cell_type": "markdown",
      "metadata": {
        "id": "GUwMuPpaslxm"
      },
      "source": [
        "## Basic Analysis"
      ]
    },
    {
      "cell_type": "code",
      "metadata": {
        "id": "CbY3jKpGBqy1",
        "outputId": "61c199d2-7125-44fb-f372-b7b965ffcf52",
        "colab": {
          "base_uri": "https://localhost:8080/",
          "height": 34
        }
      },
      "source": [
        "\n",
        "df_unpivoted4[df_unpivoted4.sign4 == 3][['confirmed_outof_pp', 'deaths_outof_pp']].describe().T\n",
        "sign = 3\n",
        "\n",
        "np.nanmedian(df_unpivoted4[(df_unpivoted4.sign4 == sign)&(df_unpivoted4.date == '2020-04-07')]['confirmed_outof_pp']),\\\n",
        "np.nanmedian(df_unpivoted4[(df_unpivoted4.sign4 == sign)&(df_unpivoted4.date == '2020-04-07')]['deaths_outof_pp'])\n",
        "\n",
        "\n",
        "\n",
        "df_unpivoted4[(df_unpivoted4.sign4 == sign)&(df_unpivoted4.date == '2020-04-07')]['deaths_outof_pp'].describe().T\n",
        "\n",
        "np.nanmedian(df_unpivoted4[(df_unpivoted4.sign4 == sign)&(df_unpivoted4.date == '2020-04-07')]['deaths']),\\\n",
        "np.nanmedian(df_unpivoted4[(df_unpivoted4.sign4 == sign)&(df_unpivoted4.date == '2020-04-07')]['PP']),\\\n",
        "np.nanmedian(df_unpivoted4[(df_unpivoted4.sign4 == sign)&(df_unpivoted4.date == '2020-04-07')]['deaths_outof_pp']),\\\n",
        "np.nanmedian(df_unpivoted4[(df_unpivoted4.sign4 == sign)&(df_unpivoted4.date == '2020-04-07')]['deaths_outof_pp']/1000)\n",
        "\n",
        "df_unpivoted4[df_unpivoted4.sign4 == 0].describe().T\n",
        "sign = 3\n",
        "np.nanmedian(df_unpivoted4[(df_unpivoted4.sign4 == sign)&(df_unpivoted4.date == '2020-04-07')]['PM']),\\ # for them it's same with and without\n",
        "np.nanmedian(df_unpivoted4[df_unpivoted4.sign4 == sign]['PD']),\\\n",
        "np.nanmedian(df_unpivoted4[df_unpivoted4.sign4 == sign]['PP']),\\\n",
        "np.nanmedian(df_unpivoted4[df_unpivoted4.sign4 == sign]['GDP']),\\\n",
        "np.nanmedian(df_unpivoted4[df_unpivoted4.sign4 == sign]['TP1']),\\\n",
        "np.nanmedian(df_unpivoted4[df_unpivoted4.sign4 == sign]['LifeExpectancy'])\n"
      ],
      "execution_count": null,
      "outputs": [
        {
          "output_type": "execute_result",
          "data": {
            "text/plain": [
              "(63.0, 8607442.5, 0.012983937995413775, 1.2983937995413774e-05)"
            ]
          },
          "metadata": {
            "tags": []
          },
          "execution_count": 29
        }
      ]
    },
    {
      "cell_type": "markdown",
      "metadata": {
        "id": "tDmTdtONtOJV"
      },
      "source": [
        "##Train, Valid, Text division"
      ]
    },
    {
      "cell_type": "code",
      "metadata": {
        "id": "OoFUOFVHL4ci"
      },
      "source": [
        "ids = df_unpivoted4[(df_unpivoted4['date'] == '2020-04-07') & ((df_unpivoted4['lockdown_d3'] < 1) & (df_unpivoted4['travel_d3'] < 1) & (df_unpivoted4['confirmed'] < 100))]['Country/Region'].unique()\n",
        "ids, len(ids)\n",
        "df_unpivoted4 = df_unpivoted4.loc[~df_unpivoted4['Country/Region'].isin(ids)]\n"
      ],
      "execution_count": null,
      "outputs": []
    },
    {
      "cell_type": "markdown",
      "metadata": {
        "id": "EU-sNtsSthbO"
      },
      "source": [
        "##Figures"
      ]
    },
    {
      "cell_type": "code",
      "metadata": {
        "id": "aiDpGBRHbR4Y",
        "outputId": "57d78130-da95-47a7-aa7e-0bc1897d9ebb",
        "colab": {
          "base_uri": "https://localhost:8080/",
          "height": 877
        }
      },
      "source": [
        "#In the paper, we tried not to specify which country performed significantly different from agent's suggestions.\n",
        "#Accordingly, I'm sorry that I have to say that the naming below has also arbitrary changed. But, you may change those for your own purpose.\n",
        "import matplotlib.pyplot as plt\n",
        "import matplotlib.dates as mdates\n",
        "import numpy as np\n",
        "import pandas as pd\n",
        "import matplotlib.ticker as ticker\n",
        "\n",
        "text_ = 'Country 1'\n",
        "fig = plt.figure(figsize = (9, 6), dpi = 300)\n",
        "ax = fig.add_subplot(1,1,1)\n",
        "c1 = (df_unpivoted4[(df_unpivoted4['Country/Region'] == text_) & (df_unpivoted4['date'] == '2020-04-07')]['confirmed']+\\\n",
        "      df_unpivoted4[(df_unpivoted4['Country/Region'] == text_) & (df_unpivoted4['date'] == '2020-04-07')]['recovered']+\\\n",
        "      df_unpivoted4[(df_unpivoted4['Country/Region'] == text_) & (df_unpivoted4['date'] == '2020-04-07')]['deaths'])\n",
        "print (c1)\n",
        "\n",
        "bf = 19; sf = 16\n",
        "x_data = df_unpivoted4[df_unpivoted4['Country/Region'] == text_]['date']\n",
        "y_data = df_unpivoted4[df_unpivoted4['Country/Region'] == text_]['confirmed']/2557.0\n",
        "ax.bar(x_data, y_data, color = 'red', label = \"Confirmed case\")\n",
        "\n",
        "x_data = df_unpivoted4[df_unpivoted4['Country/Region'] == text_]['date']\n",
        "y_data = df_unpivoted4[df_unpivoted4['Country/Region'] == text_]['recovered']/2557.0\n",
        "ax.bar(x_data, y_data, label = \"Recovered case\")\n",
        "\n",
        "x_data = df_unpivoted4[df_unpivoted4['Country/Region'] == text_]['date']\n",
        "y_data = df_unpivoted4[df_unpivoted4['Country/Region'] == text_]['deaths']/2557.0\n",
        "ax.bar(x_data, y_data, color = 'orange', label = \"Deceased case\")\n",
        "\n",
        "ax.xaxis.set_major_locator(plt.MaxNLocator(n=5))\n",
        "\n",
        "every_nth = 2\n",
        "for n, label in enumerate(ax.xaxis.get_ticklabels()):\n",
        "    if n % every_nth != 0:\n",
        "        label.set_visible(False)\n",
        "\n",
        "for tick in ax.xaxis.get_major_ticks():\n",
        "                tick.label.set_fontsize(sf) \n",
        "                tick.label.set_rotation(0)\n",
        "\n",
        "for tick in ax.yaxis.get_major_ticks():\n",
        "                tick.label.set_fontsize(sf) \n",
        "\n",
        "ax.set_xlabel('Date', fontsize = bf)\n",
        "ax.set_ylabel('Number of cases (out of total cases)', fontsize = bf)\n",
        "\n",
        "ax.legend(loc=2, prop={'size': sf})\n",
        "plt.tight_layout()\n",
        "\n",
        "if text_ == 'Country 1' : \n",
        "  ax.annotate('    Agent policy', xy=(0.08, 0), xycoords='axes fraction', xytext=(0.08, 0.3), \n",
        "            fontsize = sf, horizontalalignment=\"center\", arrowprops=dict(arrowstyle=\"->\", lw = 2, color='red'))\n",
        "  ax.annotate('    Agent policy', xy=(0.08, 0), xycoords='axes fraction', xytext=(0.08, 0.3), \n",
        "            fontsize = sf, horizontalalignment=\"center\", arrowprops=dict(arrowstyle=\"->\", lw = 2, color='red'))\n",
        "  ax.annotate('       First case', xy=(0.13, 0), xycoords='axes fraction', xytext=(0.13, 0.2), \n",
        "            fontsize = sf, horizontalalignment=\"center\", arrowprops=dict(arrowstyle=\"->\", lw = 2, color='black'))\n",
        "  ax.annotate('Government Policy      ', xy=(0.79, 0.13), xycoords='axes fraction', xytext=(0.79, 0.43), \n",
        "            fontsize = sf, horizontalalignment=\"center\", arrowprops=dict(arrowstyle=\"->\", lw = 2, color='steelblue'))\n",
        "elif text_ == 'Country 2' : \n",
        "  ax.annotate('Agent policy    ', xy=(0.72, 0.35), xycoords='axes fraction', xytext=(0.72, 0.75), \n",
        "            fontsize = sf, horizontalalignment=\"center\", arrowprops=dict(arrowstyle=\"->\", lw = 2, color='red'))\n",
        "  ax.annotate('First case', xy=(0.545, 0), xycoords='axes fraction', xytext=(0.545, 0.3), \n",
        "            fontsize = sf, horizontalalignment=\"center\", arrowprops=dict(arrowstyle=\"->\", lw = 2, color='black'))\n",
        "  ax.annotate('Government Policy         ', xy=(0.71, 0.35), xycoords='axes fraction', xytext=(0.71, 0.65), \n",
        "            fontsize = sf, horizontalalignment=\"center\", arrowprops=dict(arrowstyle=\"->\", lw = 2, color='steelblue'))\n",
        "elif text_ == 'Country 3' : \n",
        "  ax.annotate('Agent policy    ', xy=(0.83, 0.35), xycoords='axes fraction', xytext=(0.83, 0.75), \n",
        "            fontsize = sf, horizontalalignment=\"center\", arrowprops=dict(arrowstyle=\"->\", lw = 2, color='red'))\n",
        "  ax.annotate('      First case', xy=(0.05, 0), xycoords='axes fraction', xytext=(0.05, 0.3), \n",
        "            fontsize = sf, horizontalalignment=\"center\", arrowprops=dict(arrowstyle=\"->\", lw = 2, color='black'))\n",
        "  ax.annotate('  Government Policy', xy=(0.18, 0.0), xycoords='axes fraction', xytext=(0.18, 0.2),  #weight='bold', \n",
        "            fontsize = sf, horizontalalignment=\"center\", arrowprops=dict(arrowstyle=\"->\", lw = 2, color='steelblue'))\n",
        "\n",
        "\n",
        "#fig.savefig('Country_'+text_+'_text.png', dpi = 300)\n"
      ],
      "execution_count": null,
      "outputs": [
        {
          "output_type": "stream",
          "text": [
            "22599    2557.0\n",
            "dtype: float64\n",
            "16\n"
          ],
          "name": "stdout"
        },
        {
          "output_type": "stream",
          "text": [
            "/usr/local/lib/python3.6/dist-packages/ipykernel_launcher.py:30: MatplotlibDeprecationWarning: MaxNLocator.set_params got an unexpected parameter: n\n"
          ],
          "name": "stderr"
        },
        {
          "output_type": "display_data",
          "data": {
            "image/png": "[encoded data removed]",
            "text/plain": [
              "<Figure size 2700x1800 with 1 Axes>"
            ]
          },
          "metadata": {
            "tags": [],
            "needs_background": "light"
          }
        }
      ]
    },
    {
      "cell_type": "code",
      "metadata": {
        "id": "Ura4aA4m5HM2"
      },
      "source": [
        "df_hml = Travel_s3_1.merge(Lockdown_s3_1, how='left', left_on=['Country/Region'], right_on=['Country/Region'])\n",
        "df_hml = df_hml.merge(df_unpivoted4[df_unpivoted4.date == '2020-04-07'], how='left', left_on=['Country/Region'], right_on=['Country/Region'])\n",
        "\n",
        "df_hml = df_hml[['Country/Region','TC1', 'TC2', 'TW1', 'TW2', 'LC1', 'LC2', 'LW1', 'LW2',\n",
        "       'date', 'confirmed', 'recovered', 'deaths', 'lockdown_d3', 'travel_d3',\n",
        "       'PM', 'PD', 'PP', 'GDP',  'Lat', 'Long', 'confirmed_outof_pp',\n",
        "       'recovered_outof_pp', 'deaths_outof_pp', 'deaths_outof_confirmed',\n",
        "       'recovered_outof_confirmed']]\n",
        "\n",
        "df_hml = df_hml.merge(df_death_sign4_country, how='left', left_on=['Country/Region'], right_on=['Country/Region'])\n",
        "df_hml = df_hml.drop_duplicates()\n",
        "print(df_hml['sign4'].value_counts())\n",
        "\n",
        "df_hml['TW1_'] = pd.cut(df_hml['TW1'], 3, labels = [0,1,2])\n",
        "df_hml['TW2_'] = pd.cut(df_hml['TW2'], 3, labels = [0,1,2])\n",
        "df_hml['TC1_'] = pd.cut(df_hml['TC1'], 3, labels = [0,1,2])\n",
        "df_hml['TC2_'] = pd.cut(df_hml['TC2'], 3, labels = [0,1,2])\n",
        "df_hml['LW1_'] = pd.cut(df_hml['LW1'], 3, labels = [0,1,2])\n",
        "df_hml['LW2_'] = pd.cut(df_hml['LW2'], 3, labels = [0,1,2])\n",
        "df_hml['LC1_'] = pd.cut(df_hml['LC1'], 3, labels = [0,1,2])\n",
        "df_hml['LC2_'] = pd.cut(df_hml['LC2'], 3, labels = [0,1,2])\n",
        "\n",
        "# Timing for Country level\n",
        "import matplotlib.pyplot as plt\n",
        "import seaborn as sns\n",
        "#text = 'LW2'\n",
        "texts = ['LW2', 'LW1', 'LC2', 'LC1', 'TW2', 'TW1', 'TC2', 'TC1']\n",
        "\n",
        "bf = 19; sf = 16\n",
        "for text in texts : \n",
        "  x1 = list(df_hml[df_hml['sign4'] == 0][text])\n",
        "  x2 = list(df_hml[df_hml['sign4'] == 1][text])\n",
        "  x3 = list(df_hml[df_hml['sign4'] == 2][text])\n",
        "  x4 = list(df_hml[df_hml['sign4'] == 3][text])\n",
        "\n",
        "  names = ['Low', 'Medium', 'High', 'Critical']\n",
        "  kwargs = dict(hist_kws={'alpha':.6}, bins = 40, kde_kws={'linewidth':2})\n",
        "  plt.figure(figsize=(9,6.5), dpi = 100) #300\n",
        "\n",
        "  sns.kdeplot(x1, color=\"dodgerblue\", label=names[0])\n",
        "  sns.kdeplot(x2, color=\"gold\", label=names[1])\n",
        "  sns.kdeplot(x3, color=\"darkorange\", label=names[2])\n",
        "  sns.kdeplot(x4, color=\"crimson\", label=names[3])\n",
        "  if text == 'LW2' : c1 = 20;c2 = 100 \n",
        "  elif text == 'LW1' : c1 = 0 ;c2 = 100\n",
        "  elif text == 'LC1' : c1 = -40 ;c2 = 80\n",
        "  elif text == 'LC2' : c1 = 0 ;c2 = 80\n",
        "  elif text == 'TC1' : c1 = -50 ;c2 = 80\n",
        "  elif text == 'TC2' : c1 = 0 ;c2 = 90\n",
        "  elif text == 'TW1' : c1 = 0 ;c2 = 100\n",
        "  elif text == 'TW2' : c1 = 30 ;c2 = 100\n",
        "  plt.xlim(xmin=c1,xmax=c2)\n",
        "\n",
        "  plt.xticks(fontsize = sf)\n",
        "  plt.yticks(fontsize = sf)\n",
        "  plt.legend(prop={'size': sf}, title_fontsize=(sf+1), fancybox=True, title=\"Severity\")\n",
        "  if (text == 'LW2') or (text == 'LW1') or (text == 'TW2') or (text == 'TW1') : \n",
        "    plt.xlabel('Days from 31st December 2019', fontsize = bf) #fontname=\"Arial\", \n",
        "  elif (text == 'LC2') or (text == 'LC1') or (text == 'TC2') or (text == 'TC1') : \n",
        "    plt.xlabel('Days from the index case date for each country and territory', fontsize = bf) #fontname=\"Arial\",\n",
        "\n",
        "  plt.ylabel('Number of countries and territories', fontsize = bf) #fontname=\"Arial\",\n",
        "\n",
        "  plt.tight_layout()\n"
      ],
      "execution_count": null,
      "outputs": []
    },
    {
      "cell_type": "code",
      "metadata": {
        "id": "7GJjb_sMdK6z"
      },
      "source": [
        "from PIL import Image\n",
        "#if you need to change RGB to CMYK\n",
        "for text_ in texts : \n",
        "  read_dir = 'RGB.png'\n",
        "  image = Image.open(read_dir).convert(\"CMYK\")\n",
        "  image.save('CMYK.jpeg')\n"
      ],
      "execution_count": null,
      "outputs": []
    },
    {
      "cell_type": "code",
      "metadata": {
        "id": "a92Gz8K2Cy2j",
        "outputId": "603d3856-5ac3-4c99-98b2-c58fa3dffd08",
        "colab": {
          "base_uri": "https://localhost:8080/",
          "height": 858
        }
      },
      "source": [
        "GP_1 = np.array([[0.64,\t0.1,\t0.0],[0.06,\t0.04,\t0.03],[0.02,\t0.02,\t0.09]])\n",
        "GP_2 = np.array([[0.25,\t0.21,\t0.0],[0.11,\t0.09,\t0.06],[0.04,\t0.05,\t0.19]])\n",
        "AP_1 = np.array([[0.11,\t0.12,\t0.02],[0.02,\t0.21,\t0.22],[0.07,\t0.05,\t0.16]])\n",
        "AP_2 = np.array([[0.11,\t0.12,\t0.02],[0.02,\t0.24,\t0.17],[0.06,\t0.08,\t0.19]])\n",
        "\n",
        "GP_1 = np.array([[64,\t10,\t0],[6,\t4,\t3],[2,\t2,\t9]])\n",
        "GP_2 = np.array([[25,\t21,\t0],[11,\t9,\t6],[4,\t5,\t19]])\n",
        "AP_1 = np.array([[11,\t12,\t2],[2,\t21,\t22],[7,\t5,\t16]])\n",
        "AP_2 = np.array([[11,\t12,\t2],[2,\t24,\t17],[6,\t8,\t19]])\n",
        "\n",
        "texts = ['GP_1'] #, 'AP_1', 'AP_2'] \n",
        "for text_ in texts : \n",
        "  print(text_)\n",
        "  if text_ == 'GP_1' : data = GP_1\n",
        "  elif text_ == 'GP_2' : data = GP_2\n",
        "  elif text_ == 'AP_1' : data = AP_1\n",
        "  elif text_ == 'AP_2' : data = AP_2\n",
        "    \n",
        "  f, (ax1) = plt.subplots(1, 1, figsize=(3,3), dpi=300)\n",
        "  x_edges = np.arange(-0.5,3)\n",
        "  y_edges = np.arange(-0.5,3)\n",
        "  ax1.imshow(np.flipud(data), cmap=\"Blues\",extent=[x_edges[0], x_edges[-1],  y_edges[0],y_edges[-1]])\n",
        "\n",
        "  # Major ticks\n",
        "  ax1.set_xticks(np.arange(0, 3, 1));\n",
        "  ax1.set_yticks(np.arange(0, 3, 1));\n",
        "\n",
        "  # Labels for major ticks\n",
        "  ax1.set_xticklabels(np.arange(0, 3, 1));\n",
        "  ax1.set_yticklabels(np.arange(0, 3, 1));\n",
        "  # Minor ticks\n",
        "  ax1.set_xticks(np.arange(-.5, 3, 1), minor=True);\n",
        "  ax1.set_yticks(np.arange(-.5, 3, 1), minor=True);\n",
        "  # Gridlines based on minor ticks\n",
        "  ax1.grid(which='minor', color='b', linestyle='-', linewidth=1)\n",
        "\n",
        "\n",
        "  for i in range(3):\n",
        "      for j in range(3):\n",
        "          if (i == 0) & (j == 0) :\n",
        "            text = ax1.text(j, i, np.round(data[i,j],2), ha=\"center\", va=\"center\", color=\"w\")\n",
        "          #elif (i == 2) & (j == 2) :\n",
        "          #  text = ax1.text(j, i, np.round(data[i,j],2), ha=\"center\", va=\"center\", color=\"w\")\n",
        "          #elif (i == 0) & (j == 1) :\n",
        "          #  text = ax1.text(j, i, np.round(data[i,j],2), ha=\"center\", va=\"center\", color=\"w\")\n",
        "          else : \n",
        "            text = ax1.text(j, i, np.round(data[i,j],2), ha=\"center\", va=\"center\", color=\"darkblue\")\n",
        "\n",
        "  im1 = ax1.pcolormesh(x_edges, y_edges, data, cmap='Blues')\n",
        "\n",
        "  f.colorbar(im1, ax=ax1, label = \"Action frequency (%)\")\n",
        "  ax1.set_ylabel('Lockdown')\n",
        "  ax1.set_xlabel('Travel restriction')\n",
        "  ax1.set_title(\"Government policy\") #(\"Agent policy\")\n",
        "  plt.tight_layout()\n",
        "\n",
        "f.savefig('Sample_Policy_'+text_+'.png', dpi = 300)\n",
        "  "
      ],
      "execution_count": null,
      "outputs": [
        {
          "output_type": "stream",
          "text": [
            "GP_1\n"
          ],
          "name": "stdout"
        },
        {
          "output_type": "display_data",
          "data": {
            "image/png": "[encoded data removed]",
            "text/plain": [
              "<Figure size 900x900 with 2 Axes>"
            ]
          },
          "metadata": {
            "tags": [],
            "needs_background": "light"
          }
        }
      ]
    },
    {
      "cell_type": "code",
      "metadata": {
        "id": "ov5Yvbx47-Hk",
        "outputId": "0218e4ac-1e84-46b7-cd04-b3448cf7398c",
        "colab": {
          "base_uri": "https://localhost:8080/",
          "height": 1000
        }
      },
      "source": [
        "# default accuracy is 0\n",
        "# Depending on your purpose and reason, you can modify this area and below\n",
        "df_unpivoted4['acc_death'] = 0.0 \n",
        "df_unpivoted4['acc_recovery'] = 0.0\n",
        "df_unpivoted4['acc_confirmed'] = 0.00\n",
        "\n",
        "for i in df_unpivoted4.index:\n",
        "    if i == 0:\n",
        "        continue\n",
        "    else:\n",
        "        if (df_unpivoted4.loc[i,'Country/Region'] == df_unpivoted4.loc[i-1,'Country/Region']):\n",
        "          # how much the difference heavily changed after the actions.\n",
        "          if (df_unpivoted4.loc[i,'confirmed'] != 0):   \n",
        "            if (df_unpivoted4.loc[i-1,'confirmed'] != 0):   \n",
        "              df_unpivoted4.loc[i,'acc_confirmed'] = (df_unpivoted4.loc[i,'confirmed'] - df_unpivoted4.loc[i-1,'confirmed'])/df_unpivoted4.loc[i-1,'confirmed']\n",
        "            elif (df_unpivoted4.loc[i-1,'confirmed'] == 0):   \n",
        "              df_unpivoted4.loc[i,'acc_confirmed'] = (df_unpivoted4.loc[i,'confirmed'] - df_unpivoted4.loc[i-1,'confirmed'])\n",
        "          \n",
        "          if (df_unpivoted4.loc[i,'deaths'] != 0):    \n",
        "            if (df_unpivoted4.loc[i-1,'deaths'] != 0):  \n",
        "              df_unpivoted4.loc[i,'acc_death'] = (df_unpivoted4.loc[i,'deaths'] - df_unpivoted4.loc[i-1,'deaths'])/ df_unpivoted4.loc[i-1,'deaths']\n",
        "            elif (df_unpivoted4.loc[i-1,'deaths'] == 0):  \n",
        "              df_unpivoted4.loc[i,'acc_death'] = (df_unpivoted4.loc[i,'deaths'] - df_unpivoted4.loc[i-1,'deaths'])\n",
        " \n",
        "          if (df_unpivoted4.loc[i,'recovered'] != 0):  \n",
        "            if (df_unpivoted4.loc[i-1,'recovered'] != 0):     \n",
        "              df_unpivoted4.loc[i,'acc_recovery'] = (df_unpivoted4.loc[i,'recovered'] - df_unpivoted4.loc[i-1,'recovered'])/ df_unpivoted4.loc[i-1,'recovered'] \n",
        "            elif (df_unpivoted4.loc[i-1,'recovered'] == 0):     \n",
        "              df_unpivoted4.loc[i,'acc_recovery'] = (df_unpivoted4.loc[i,'recovered'] - df_unpivoted4.loc[i-1,'recovered'])\n",
        " "
      ],
      "execution_count": null,
      "outputs": [
        {
          "output_type": "stream",
          "text": [
            "/usr/local/lib/python3.6/dist-packages/ipykernel_launcher.py:1: SettingWithCopyWarning: \n",
            "A value is trying to be set on a copy of a slice from a DataFrame.\n",
            "Try using .loc[row_indexer,col_indexer] = value instead\n",
            "\n",
            "See the caveats in the documentation: https://pandas.pydata.org/pandas-docs/stable/user_guide/indexing.html#returning-a-view-versus-a-copy\n",
            "  \"\"\"Entry point for launching an IPython kernel.\n",
            "/usr/local/lib/python3.6/dist-packages/ipykernel_launcher.py:2: SettingWithCopyWarning: \n",
            "A value is trying to be set on a copy of a slice from a DataFrame.\n",
            "Try using .loc[row_indexer,col_indexer] = value instead\n",
            "\n",
            "See the caveats in the documentation: https://pandas.pydata.org/pandas-docs/stable/user_guide/indexing.html#returning-a-view-versus-a-copy\n",
            "  \n",
            "/usr/local/lib/python3.6/dist-packages/ipykernel_launcher.py:3: SettingWithCopyWarning: \n",
            "A value is trying to be set on a copy of a slice from a DataFrame.\n",
            "Try using .loc[row_indexer,col_indexer] = value instead\n",
            "\n",
            "See the caveats in the documentation: https://pandas.pydata.org/pandas-docs/stable/user_guide/indexing.html#returning-a-view-versus-a-copy\n",
            "  This is separate from the ipykernel package so we can avoid doing imports until\n",
            "/usr/local/lib/python3.6/dist-packages/pandas/core/indexing.py:966: SettingWithCopyWarning: \n",
            "A value is trying to be set on a copy of a slice from a DataFrame.\n",
            "Try using .loc[row_indexer,col_indexer] = value instead\n",
            "\n",
            "See the caveats in the documentation: https://pandas.pydata.org/pandas-docs/stable/user_guide/indexing.html#returning-a-view-versus-a-copy\n",
            "  self.obj[item] = s\n"
          ],
          "name": "stderr"
        },
        {
          "output_type": "error",
          "ename": "KeyError",
          "evalue": "ignored",
          "traceback": [
            "\u001b[0;31m---------------------------------------------------------------------------\u001b[0m",
            "\u001b[0;31mKeyError\u001b[0m                                  Traceback (most recent call last)",
            "\u001b[0;32m/usr/local/lib/python3.6/dist-packages/pandas/core/indexes/base.py\u001b[0m in \u001b[0;36mget_loc\u001b[0;34m(self, key, method, tolerance)\u001b[0m\n\u001b[1;32m   2645\u001b[0m             \u001b[0;32mtry\u001b[0m\u001b[0;34m:\u001b[0m\u001b[0;34m\u001b[0m\u001b[0;34m\u001b[0m\u001b[0m\n\u001b[0;32m-> 2646\u001b[0;31m                 \u001b[0;32mreturn\u001b[0m \u001b[0mself\u001b[0m\u001b[0;34m.\u001b[0m\u001b[0m_engine\u001b[0m\u001b[0;34m.\u001b[0m\u001b[0mget_loc\u001b[0m\u001b[0;34m(\u001b[0m\u001b[0mkey\u001b[0m\u001b[0;34m)\u001b[0m\u001b[0;34m\u001b[0m\u001b[0;34m\u001b[0m\u001b[0m\n\u001b[0m\u001b[1;32m   2647\u001b[0m             \u001b[0;32mexcept\u001b[0m \u001b[0mKeyError\u001b[0m\u001b[0;34m:\u001b[0m\u001b[0;34m\u001b[0m\u001b[0;34m\u001b[0m\u001b[0m\n",
            "\u001b[0;32mpandas/_libs/index.pyx\u001b[0m in \u001b[0;36mpandas._libs.index.IndexEngine.get_loc\u001b[0;34m()\u001b[0m\n",
            "\u001b[0;32mpandas/_libs/index.pyx\u001b[0m in \u001b[0;36mpandas._libs.index.IndexEngine.get_loc\u001b[0;34m()\u001b[0m\n",
            "\u001b[0;32mpandas/_libs/hashtable_class_helper.pxi\u001b[0m in \u001b[0;36mpandas._libs.hashtable.Int64HashTable.get_item\u001b[0;34m()\u001b[0m\n",
            "\u001b[0;32mpandas/_libs/hashtable_class_helper.pxi\u001b[0m in \u001b[0;36mpandas._libs.hashtable.Int64HashTable.get_item\u001b[0;34m()\u001b[0m\n",
            "\u001b[0;31mKeyError\u001b[0m: 538",
            "\nDuring handling of the above exception, another exception occurred:\n",
            "\u001b[0;31mKeyError\u001b[0m                                  Traceback (most recent call last)",
            "\u001b[0;32m<ipython-input-29-77183d16b5c2>\u001b[0m in \u001b[0;36m<module>\u001b[0;34m()\u001b[0m\n\u001b[1;32m      7\u001b[0m         \u001b[0;32mcontinue\u001b[0m\u001b[0;34m\u001b[0m\u001b[0;34m\u001b[0m\u001b[0m\n\u001b[1;32m      8\u001b[0m     \u001b[0;32melse\u001b[0m\u001b[0;34m:\u001b[0m\u001b[0;34m\u001b[0m\u001b[0;34m\u001b[0m\u001b[0m\n\u001b[0;32m----> 9\u001b[0;31m         \u001b[0;32mif\u001b[0m \u001b[0;34m(\u001b[0m\u001b[0mdf_unpivoted4\u001b[0m\u001b[0;34m.\u001b[0m\u001b[0mloc\u001b[0m\u001b[0;34m[\u001b[0m\u001b[0mi\u001b[0m\u001b[0;34m,\u001b[0m\u001b[0;34m'Country/Region'\u001b[0m\u001b[0;34m]\u001b[0m \u001b[0;34m==\u001b[0m \u001b[0mdf_unpivoted4\u001b[0m\u001b[0;34m.\u001b[0m\u001b[0mloc\u001b[0m\u001b[0;34m[\u001b[0m\u001b[0mi\u001b[0m\u001b[0;34m-\u001b[0m\u001b[0;36m1\u001b[0m\u001b[0;34m,\u001b[0m\u001b[0;34m'Country/Region'\u001b[0m\u001b[0;34m]\u001b[0m\u001b[0;34m)\u001b[0m\u001b[0;34m:\u001b[0m\u001b[0;34m\u001b[0m\u001b[0;34m\u001b[0m\u001b[0m\n\u001b[0m\u001b[1;32m     10\u001b[0m           \u001b[0;31m# how much the difference heavily changed after the actions.\u001b[0m\u001b[0;34m\u001b[0m\u001b[0;34m\u001b[0m\u001b[0;34m\u001b[0m\u001b[0m\n\u001b[1;32m     11\u001b[0m           \u001b[0;32mif\u001b[0m \u001b[0;34m(\u001b[0m\u001b[0mdf_unpivoted4\u001b[0m\u001b[0;34m.\u001b[0m\u001b[0mloc\u001b[0m\u001b[0;34m[\u001b[0m\u001b[0mi\u001b[0m\u001b[0;34m,\u001b[0m\u001b[0;34m'confirmed'\u001b[0m\u001b[0;34m]\u001b[0m \u001b[0;34m!=\u001b[0m \u001b[0;36m0\u001b[0m\u001b[0;34m)\u001b[0m\u001b[0;34m:\u001b[0m\u001b[0;34m\u001b[0m\u001b[0;34m\u001b[0m\u001b[0m\n",
            "\u001b[0;32m/usr/local/lib/python3.6/dist-packages/pandas/core/indexing.py\u001b[0m in \u001b[0;36m__getitem__\u001b[0;34m(self, key)\u001b[0m\n\u001b[1;32m   1760\u001b[0m                 \u001b[0;32mexcept\u001b[0m \u001b[0;34m(\u001b[0m\u001b[0mKeyError\u001b[0m\u001b[0;34m,\u001b[0m \u001b[0mIndexError\u001b[0m\u001b[0;34m,\u001b[0m \u001b[0mAttributeError\u001b[0m\u001b[0;34m)\u001b[0m\u001b[0;34m:\u001b[0m\u001b[0;34m\u001b[0m\u001b[0;34m\u001b[0m\u001b[0m\n\u001b[1;32m   1761\u001b[0m                     \u001b[0;32mpass\u001b[0m\u001b[0;34m\u001b[0m\u001b[0;34m\u001b[0m\u001b[0m\n\u001b[0;32m-> 1762\u001b[0;31m             \u001b[0;32mreturn\u001b[0m \u001b[0mself\u001b[0m\u001b[0;34m.\u001b[0m\u001b[0m_getitem_tuple\u001b[0m\u001b[0;34m(\u001b[0m\u001b[0mkey\u001b[0m\u001b[0;34m)\u001b[0m\u001b[0;34m\u001b[0m\u001b[0;34m\u001b[0m\u001b[0m\n\u001b[0m\u001b[1;32m   1763\u001b[0m         \u001b[0;32melse\u001b[0m\u001b[0;34m:\u001b[0m\u001b[0;34m\u001b[0m\u001b[0;34m\u001b[0m\u001b[0m\n\u001b[1;32m   1764\u001b[0m             \u001b[0;31m# we by definition only have the 0th axis\u001b[0m\u001b[0;34m\u001b[0m\u001b[0;34m\u001b[0m\u001b[0;34m\u001b[0m\u001b[0m\n",
            "\u001b[0;32m/usr/local/lib/python3.6/dist-packages/pandas/core/indexing.py\u001b[0m in \u001b[0;36m_getitem_tuple\u001b[0;34m(self, tup)\u001b[0m\n\u001b[1;32m   1270\u001b[0m     \u001b[0;32mdef\u001b[0m \u001b[0m_getitem_tuple\u001b[0m\u001b[0;34m(\u001b[0m\u001b[0mself\u001b[0m\u001b[0;34m,\u001b[0m \u001b[0mtup\u001b[0m\u001b[0;34m:\u001b[0m \u001b[0mTuple\u001b[0m\u001b[0;34m)\u001b[0m\u001b[0;34m:\u001b[0m\u001b[0;34m\u001b[0m\u001b[0;34m\u001b[0m\u001b[0m\n\u001b[1;32m   1271\u001b[0m         \u001b[0;32mtry\u001b[0m\u001b[0;34m:\u001b[0m\u001b[0;34m\u001b[0m\u001b[0;34m\u001b[0m\u001b[0m\n\u001b[0;32m-> 1272\u001b[0;31m             \u001b[0;32mreturn\u001b[0m \u001b[0mself\u001b[0m\u001b[0;34m.\u001b[0m\u001b[0m_getitem_lowerdim\u001b[0m\u001b[0;34m(\u001b[0m\u001b[0mtup\u001b[0m\u001b[0;34m)\u001b[0m\u001b[0;34m\u001b[0m\u001b[0;34m\u001b[0m\u001b[0m\n\u001b[0m\u001b[1;32m   1273\u001b[0m         \u001b[0;32mexcept\u001b[0m \u001b[0mIndexingError\u001b[0m\u001b[0;34m:\u001b[0m\u001b[0;34m\u001b[0m\u001b[0;34m\u001b[0m\u001b[0m\n\u001b[1;32m   1274\u001b[0m             \u001b[0;32mpass\u001b[0m\u001b[0;34m\u001b[0m\u001b[0;34m\u001b[0m\u001b[0m\n",
            "\u001b[0;32m/usr/local/lib/python3.6/dist-packages/pandas/core/indexing.py\u001b[0m in \u001b[0;36m_getitem_lowerdim\u001b[0;34m(self, tup)\u001b[0m\n\u001b[1;32m   1387\u001b[0m         \u001b[0;32mfor\u001b[0m \u001b[0mi\u001b[0m\u001b[0;34m,\u001b[0m \u001b[0mkey\u001b[0m \u001b[0;32min\u001b[0m \u001b[0menumerate\u001b[0m\u001b[0;34m(\u001b[0m\u001b[0mtup\u001b[0m\u001b[0;34m)\u001b[0m\u001b[0;34m:\u001b[0m\u001b[0;34m\u001b[0m\u001b[0;34m\u001b[0m\u001b[0m\n\u001b[1;32m   1388\u001b[0m             \u001b[0;32mif\u001b[0m \u001b[0mis_label_like\u001b[0m\u001b[0;34m(\u001b[0m\u001b[0mkey\u001b[0m\u001b[0;34m)\u001b[0m \u001b[0;32mor\u001b[0m \u001b[0misinstance\u001b[0m\u001b[0;34m(\u001b[0m\u001b[0mkey\u001b[0m\u001b[0;34m,\u001b[0m \u001b[0mtuple\u001b[0m\u001b[0;34m)\u001b[0m\u001b[0;34m:\u001b[0m\u001b[0;34m\u001b[0m\u001b[0;34m\u001b[0m\u001b[0m\n\u001b[0;32m-> 1389\u001b[0;31m                 \u001b[0msection\u001b[0m \u001b[0;34m=\u001b[0m \u001b[0mself\u001b[0m\u001b[0;34m.\u001b[0m\u001b[0m_getitem_axis\u001b[0m\u001b[0;34m(\u001b[0m\u001b[0mkey\u001b[0m\u001b[0;34m,\u001b[0m \u001b[0maxis\u001b[0m\u001b[0;34m=\u001b[0m\u001b[0mi\u001b[0m\u001b[0;34m)\u001b[0m\u001b[0;34m\u001b[0m\u001b[0;34m\u001b[0m\u001b[0m\n\u001b[0m\u001b[1;32m   1390\u001b[0m \u001b[0;34m\u001b[0m\u001b[0m\n\u001b[1;32m   1391\u001b[0m                 \u001b[0;31m# we have yielded a scalar ?\u001b[0m\u001b[0;34m\u001b[0m\u001b[0;34m\u001b[0m\u001b[0;34m\u001b[0m\u001b[0m\n",
            "\u001b[0;32m/usr/local/lib/python3.6/dist-packages/pandas/core/indexing.py\u001b[0m in \u001b[0;36m_getitem_axis\u001b[0;34m(self, key, axis)\u001b[0m\n\u001b[1;32m   1963\u001b[0m         \u001b[0;31m# fall thru to straight lookup\u001b[0m\u001b[0;34m\u001b[0m\u001b[0;34m\u001b[0m\u001b[0;34m\u001b[0m\u001b[0m\n\u001b[1;32m   1964\u001b[0m         \u001b[0mself\u001b[0m\u001b[0;34m.\u001b[0m\u001b[0m_validate_key\u001b[0m\u001b[0;34m(\u001b[0m\u001b[0mkey\u001b[0m\u001b[0;34m,\u001b[0m \u001b[0maxis\u001b[0m\u001b[0;34m)\u001b[0m\u001b[0;34m\u001b[0m\u001b[0;34m\u001b[0m\u001b[0m\n\u001b[0;32m-> 1965\u001b[0;31m         \u001b[0;32mreturn\u001b[0m \u001b[0mself\u001b[0m\u001b[0;34m.\u001b[0m\u001b[0m_get_label\u001b[0m\u001b[0;34m(\u001b[0m\u001b[0mkey\u001b[0m\u001b[0;34m,\u001b[0m \u001b[0maxis\u001b[0m\u001b[0;34m=\u001b[0m\u001b[0maxis\u001b[0m\u001b[0;34m)\u001b[0m\u001b[0;34m\u001b[0m\u001b[0;34m\u001b[0m\u001b[0m\n\u001b[0m\u001b[1;32m   1966\u001b[0m \u001b[0;34m\u001b[0m\u001b[0m\n\u001b[1;32m   1967\u001b[0m \u001b[0;34m\u001b[0m\u001b[0m\n",
            "\u001b[0;32m/usr/local/lib/python3.6/dist-packages/pandas/core/indexing.py\u001b[0m in \u001b[0;36m_get_label\u001b[0;34m(self, label, axis)\u001b[0m\n\u001b[1;32m    623\u001b[0m             \u001b[0;32mraise\u001b[0m \u001b[0mIndexingError\u001b[0m\u001b[0;34m(\u001b[0m\u001b[0;34m\"no slices here, handle elsewhere\"\u001b[0m\u001b[0;34m)\u001b[0m\u001b[0;34m\u001b[0m\u001b[0;34m\u001b[0m\u001b[0m\n\u001b[1;32m    624\u001b[0m \u001b[0;34m\u001b[0m\u001b[0m\n\u001b[0;32m--> 625\u001b[0;31m         \u001b[0;32mreturn\u001b[0m \u001b[0mself\u001b[0m\u001b[0;34m.\u001b[0m\u001b[0mobj\u001b[0m\u001b[0;34m.\u001b[0m\u001b[0m_xs\u001b[0m\u001b[0;34m(\u001b[0m\u001b[0mlabel\u001b[0m\u001b[0;34m,\u001b[0m \u001b[0maxis\u001b[0m\u001b[0;34m=\u001b[0m\u001b[0maxis\u001b[0m\u001b[0;34m)\u001b[0m\u001b[0;34m\u001b[0m\u001b[0;34m\u001b[0m\u001b[0m\n\u001b[0m\u001b[1;32m    626\u001b[0m \u001b[0;34m\u001b[0m\u001b[0m\n\u001b[1;32m    627\u001b[0m     \u001b[0;32mdef\u001b[0m \u001b[0m_get_loc\u001b[0m\u001b[0;34m(\u001b[0m\u001b[0mself\u001b[0m\u001b[0;34m,\u001b[0m \u001b[0mkey\u001b[0m\u001b[0;34m:\u001b[0m \u001b[0mint\u001b[0m\u001b[0;34m,\u001b[0m \u001b[0maxis\u001b[0m\u001b[0;34m:\u001b[0m \u001b[0mint\u001b[0m\u001b[0;34m)\u001b[0m\u001b[0;34m:\u001b[0m\u001b[0;34m\u001b[0m\u001b[0;34m\u001b[0m\u001b[0m\n",
            "\u001b[0;32m/usr/local/lib/python3.6/dist-packages/pandas/core/generic.py\u001b[0m in \u001b[0;36mxs\u001b[0;34m(self, key, axis, level, drop_level)\u001b[0m\n\u001b[1;32m   3535\u001b[0m             \u001b[0mloc\u001b[0m\u001b[0;34m,\u001b[0m \u001b[0mnew_index\u001b[0m \u001b[0;34m=\u001b[0m \u001b[0mself\u001b[0m\u001b[0;34m.\u001b[0m\u001b[0mindex\u001b[0m\u001b[0;34m.\u001b[0m\u001b[0mget_loc_level\u001b[0m\u001b[0;34m(\u001b[0m\u001b[0mkey\u001b[0m\u001b[0;34m,\u001b[0m \u001b[0mdrop_level\u001b[0m\u001b[0;34m=\u001b[0m\u001b[0mdrop_level\u001b[0m\u001b[0;34m)\u001b[0m\u001b[0;34m\u001b[0m\u001b[0;34m\u001b[0m\u001b[0m\n\u001b[1;32m   3536\u001b[0m         \u001b[0;32melse\u001b[0m\u001b[0;34m:\u001b[0m\u001b[0;34m\u001b[0m\u001b[0;34m\u001b[0m\u001b[0m\n\u001b[0;32m-> 3537\u001b[0;31m             \u001b[0mloc\u001b[0m \u001b[0;34m=\u001b[0m \u001b[0mself\u001b[0m\u001b[0;34m.\u001b[0m\u001b[0mindex\u001b[0m\u001b[0;34m.\u001b[0m\u001b[0mget_loc\u001b[0m\u001b[0;34m(\u001b[0m\u001b[0mkey\u001b[0m\u001b[0;34m)\u001b[0m\u001b[0;34m\u001b[0m\u001b[0;34m\u001b[0m\u001b[0m\n\u001b[0m\u001b[1;32m   3538\u001b[0m \u001b[0;34m\u001b[0m\u001b[0m\n\u001b[1;32m   3539\u001b[0m             \u001b[0;32mif\u001b[0m \u001b[0misinstance\u001b[0m\u001b[0;34m(\u001b[0m\u001b[0mloc\u001b[0m\u001b[0;34m,\u001b[0m \u001b[0mnp\u001b[0m\u001b[0;34m.\u001b[0m\u001b[0mndarray\u001b[0m\u001b[0;34m)\u001b[0m\u001b[0;34m:\u001b[0m\u001b[0;34m\u001b[0m\u001b[0;34m\u001b[0m\u001b[0m\n",
            "\u001b[0;32m/usr/local/lib/python3.6/dist-packages/pandas/core/indexes/base.py\u001b[0m in \u001b[0;36mget_loc\u001b[0;34m(self, key, method, tolerance)\u001b[0m\n\u001b[1;32m   2646\u001b[0m                 \u001b[0;32mreturn\u001b[0m \u001b[0mself\u001b[0m\u001b[0;34m.\u001b[0m\u001b[0m_engine\u001b[0m\u001b[0;34m.\u001b[0m\u001b[0mget_loc\u001b[0m\u001b[0;34m(\u001b[0m\u001b[0mkey\u001b[0m\u001b[0;34m)\u001b[0m\u001b[0;34m\u001b[0m\u001b[0;34m\u001b[0m\u001b[0m\n\u001b[1;32m   2647\u001b[0m             \u001b[0;32mexcept\u001b[0m \u001b[0mKeyError\u001b[0m\u001b[0;34m:\u001b[0m\u001b[0;34m\u001b[0m\u001b[0;34m\u001b[0m\u001b[0m\n\u001b[0;32m-> 2648\u001b[0;31m                 \u001b[0;32mreturn\u001b[0m \u001b[0mself\u001b[0m\u001b[0;34m.\u001b[0m\u001b[0m_engine\u001b[0m\u001b[0;34m.\u001b[0m\u001b[0mget_loc\u001b[0m\u001b[0;34m(\u001b[0m\u001b[0mself\u001b[0m\u001b[0;34m.\u001b[0m\u001b[0m_maybe_cast_indexer\u001b[0m\u001b[0;34m(\u001b[0m\u001b[0mkey\u001b[0m\u001b[0;34m)\u001b[0m\u001b[0;34m)\u001b[0m\u001b[0;34m\u001b[0m\u001b[0;34m\u001b[0m\u001b[0m\n\u001b[0m\u001b[1;32m   2649\u001b[0m         \u001b[0mindexer\u001b[0m \u001b[0;34m=\u001b[0m \u001b[0mself\u001b[0m\u001b[0;34m.\u001b[0m\u001b[0mget_indexer\u001b[0m\u001b[0;34m(\u001b[0m\u001b[0;34m[\u001b[0m\u001b[0mkey\u001b[0m\u001b[0;34m]\u001b[0m\u001b[0;34m,\u001b[0m \u001b[0mmethod\u001b[0m\u001b[0;34m=\u001b[0m\u001b[0mmethod\u001b[0m\u001b[0;34m,\u001b[0m \u001b[0mtolerance\u001b[0m\u001b[0;34m=\u001b[0m\u001b[0mtolerance\u001b[0m\u001b[0;34m)\u001b[0m\u001b[0;34m\u001b[0m\u001b[0;34m\u001b[0m\u001b[0m\n\u001b[1;32m   2650\u001b[0m         \u001b[0;32mif\u001b[0m \u001b[0mindexer\u001b[0m\u001b[0;34m.\u001b[0m\u001b[0mndim\u001b[0m \u001b[0;34m>\u001b[0m \u001b[0;36m1\u001b[0m \u001b[0;32mor\u001b[0m \u001b[0mindexer\u001b[0m\u001b[0;34m.\u001b[0m\u001b[0msize\u001b[0m \u001b[0;34m>\u001b[0m \u001b[0;36m1\u001b[0m\u001b[0;34m:\u001b[0m\u001b[0;34m\u001b[0m\u001b[0;34m\u001b[0m\u001b[0m\n",
            "\u001b[0;32mpandas/_libs/index.pyx\u001b[0m in \u001b[0;36mpandas._libs.index.IndexEngine.get_loc\u001b[0;34m()\u001b[0m\n",
            "\u001b[0;32mpandas/_libs/index.pyx\u001b[0m in \u001b[0;36mpandas._libs.index.IndexEngine.get_loc\u001b[0;34m()\u001b[0m\n",
            "\u001b[0;32mpandas/_libs/hashtable_class_helper.pxi\u001b[0m in \u001b[0;36mpandas._libs.hashtable.Int64HashTable.get_item\u001b[0;34m()\u001b[0m\n",
            "\u001b[0;32mpandas/_libs/hashtable_class_helper.pxi\u001b[0m in \u001b[0;36mpandas._libs.hashtable.Int64HashTable.get_item\u001b[0;34m()\u001b[0m\n",
            "\u001b[0;31mKeyError\u001b[0m: 538"
          ]
        }
      ]
    },
    {
      "cell_type": "code",
      "metadata": {
        "id": "6yUEiQkizZPD",
        "outputId": "325aa1c6-7855-40c7-f8c3-b792c62fd773",
        "colab": {
          "base_uri": "https://localhost:8080/",
          "height": 85
        }
      },
      "source": [
        "# If you want to change, for example, expanding the scale (min- max), function adding (ex.tanh) or scaling in advance can be also considered.\n",
        "# Or you can also consider the constant values to balance the differences in beteen values.\n",
        "\n",
        "df_unpivoted4['reward'] = 0.0 \n",
        "for i in df_unpivoted4.index:\n",
        "    if i == 0:\n",
        "        continue\n",
        "    else:  \n",
        "        if df_unpivoted4.loc[i,'Country/Region'] == df_unpivoted4.loc[i-1,'Country/Region']:    \n",
        "            if df_unpivoted4.loc[i,'acc_confirmed'] > df_unpivoted4.loc[i-1,'acc_confirmed']:\n",
        "                df_unpivoted4.loc[i-1,'reward'] = -100\n",
        "            elif df_unpivoted4.loc[i,'acc_confirmed'] == df_unpivoted4.loc[i-1,'acc_confirmed']:\n",
        "              if (df_unpivoted4.loc[i,'acc_confirmed'] != 0) & ((df_unpivoted4.loc[i,'lockdown_d3'] > 0) | (df_unpivoted4.loc[i,'travel_d3'] > 0)):                \n",
        "                df_unpivoted4.loc[i-1,'reward'] = 100 \n",
        "            elif df_unpivoted4.loc[i,'acc_confirmed'] < df_unpivoted4.loc[i-1,'acc_confirmed']:\n",
        "                df_unpivoted4.loc[i-1,'reward'] = 100\n",
        "            else:\n",
        "                print(df_unpivoted4.loc[i,'acc_confirmed'], df_unpivoted4.loc[i-1,'acc_confirmed'])\n",
        "                print (\"error in row\", i)\n",
        "print (df_unpivoted4['reward'].value_counts())"
      ],
      "execution_count": null,
      "outputs": [
        {
          "output_type": "stream",
          "text": [
            " 0.0      10234\n",
            " 100.0     2983\n",
            "-100.0     2655\n",
            "Name: reward, dtype: int64\n"
          ],
          "name": "stdout"
        }
      ]
    },
    {
      "cell_type": "code",
      "metadata": {
        "id": "eSMma1wr5uY1"
      },
      "source": [
        "# Train, Val, Test set <- ids part is same as before.\n",
        "# Taking uniqe ids and then shuffle before selected the 'number' of datasets.\n",
        "# The reason why it's normally in this way is - because it's time series data.\n",
        "\n",
        "import random\n",
        "unique_ids = df_unpivoted4['Country/Region'].unique()\n",
        "random.shuffle(unique_ids)\n",
        "train_sample = 0.7\n",
        "val_sample = 0.1\n",
        "test_sample = 0.2\n",
        "\n",
        "train_num = int(len(unique_ids) * 0.7)\n",
        "val_num = int(len(unique_ids)*0.1) + train_num\n",
        "train_ids = unique_ids[:train_num]\n",
        "val_ids = unique_ids[train_num:val_num]\n",
        "test_ids = unique_ids[val_num:]\n",
        "\n",
        "train_set = pd.DataFrame(df_unpivoted4.loc[df_unpivoted4['Country/Region'].isin(train_ids)]).reset_index(drop=True)\n",
        "val_set = pd.DataFrame(df_unpivoted4.loc[df_unpivoted4['Country/Region'].isin(val_ids)].reset_index(drop=True)\n",
        "test_set = pd.DataFrame(df_unpivoted4.loc[df_unpivoted4['Country/Region'].isin(test_ids)].reset_index(drop=True)"
      ],
      "execution_count": null,
      "outputs": []
    },
    {
      "cell_type": "code",
      "metadata": {
        "id": "2F066OzJ7_sb"
      },
      "source": [
        "# It's also good to check whether the numbers are fairly divided.\n",
        "# Or you can have the condition at the above section.\n",
        "test_set[['Country/Region','sign4']].drop_duplicates().sign4.value_counts()"
      ],
      "execution_count": null,
      "outputs": []
    },
    {
      "cell_type": "code",
      "metadata": {
        "id": "ZzhTnI4h6nPo",
        "outputId": "a9dc44e8-0194-4e10-bd5c-29b996f40d77",
        "colab": {
          "base_uri": "https://localhost:8080/",
          "height": 323
        }
      },
      "source": [
        "# Depending on the type and the purpose, you can choose the normalization.\n",
        "# Combine or Select below\n",
        "preprocess_fields = ['confirmed', 'recovered', 'deaths', #'lockdown_d3', 'travel_d3', \n",
        "       'PM', 'PD', 'PP', 'GDP',  'Lat', 'Long',\n",
        "       'confirmed_outof_pp', 'recovered_outof_pp', 'deaths_outof_pp',\n",
        "       'deaths_outof_confirmed', 'recovered_outof_confirmed', 'acc_death',\n",
        "       'acc_recovery', 'acc_confirmed']           \n",
        "\n",
        "for item in preprocess_fields: \n",
        "    av = train_set[item].mean()\n",
        "    std = train_set[item].std()\n",
        "    train_set[item] = (train_set[item] - av) / std\n",
        "    val_set[item] = (val_set[item] - av) / std\n",
        "    test_set[item] = (test_set[item] - av) / std\n",
        "\n",
        "for col in preprocess_fields:\n",
        "    minimum = min(train_val_test[col])\n",
        "    maximum = max(train_val_test[col])\n",
        "    train_set[col] = (train_set[col] - minimum)/(maximum-minimum)\n",
        "    val_set[col] = (val_set[col] - minimum)/(maximum-minimum)\n",
        "    test_set[col] = (test_set[col] - minimum)/(maximum-minimum)\n",
        "    \n",
        "state_features = preprocess_fields"
      ],
      "execution_count": null,
      "outputs": [
        {
          "output_type": "stream",
          "text": [
            "/usr/local/lib/python3.6/dist-packages/ipykernel_launcher.py:10: SettingWithCopyWarning: \n",
            "A value is trying to be set on a copy of a slice from a DataFrame.\n",
            "Try using .loc[row_indexer,col_indexer] = value instead\n",
            "\n",
            "See the caveats in the documentation: https://pandas.pydata.org/pandas-docs/stable/user_guide/indexing.html#returning-a-view-versus-a-copy\n",
            "  # Remove the CWD from sys.path while we load stuff.\n",
            "/usr/local/lib/python3.6/dist-packages/ipykernel_launcher.py:11: SettingWithCopyWarning: \n",
            "A value is trying to be set on a copy of a slice from a DataFrame.\n",
            "Try using .loc[row_indexer,col_indexer] = value instead\n",
            "\n",
            "See the caveats in the documentation: https://pandas.pydata.org/pandas-docs/stable/user_guide/indexing.html#returning-a-view-versus-a-copy\n",
            "  # This is added back by InteractiveShellApp.init_path()\n",
            "/usr/local/lib/python3.6/dist-packages/ipykernel_launcher.py:12: SettingWithCopyWarning: \n",
            "A value is trying to be set on a copy of a slice from a DataFrame.\n",
            "Try using .loc[row_indexer,col_indexer] = value instead\n",
            "\n",
            "See the caveats in the documentation: https://pandas.pydata.org/pandas-docs/stable/user_guide/indexing.html#returning-a-view-versus-a-copy\n",
            "  if sys.path[0] == '':\n"
          ],
          "name": "stderr"
        }
      ]
    },
    {
      "cell_type": "code",
      "metadata": {
        "id": "MjGtqj91aUA_",
        "outputId": "9749a905-82b8-4c58-b4cd-bbcfc92f27b3",
        "colab": {
          "base_uri": "https://localhost:8080/",
          "height": 221
        }
      },
      "source": [
        "# Save the value to compare the result later.\n",
        "train_val_test = pd.concat([train_set, val_set, test_set])\n",
        "train_val_test.shape, train_set.shape\n",
        "\n",
        "train_val_test['lockdown_d3'].describe()\n",
        "train_val_test['lockdown_d3'].value_counts().sort_index()"
      ],
      "execution_count": null,
      "outputs": [
        {
          "output_type": "execute_result",
          "data": {
            "text/plain": [
              "0.000000    10566\n",
              "0.500000        1\n",
              "0.666667        1\n",
              "0.833333        1\n",
              "1.000000     1151\n",
              "            ...  \n",
              "2.571429        1\n",
              "2.700000        1\n",
              "2.714286        1\n",
              "2.857143        1\n",
              "3.000000       90\n",
              "Name: lockdown_d3, Length: 223, dtype: int64"
            ]
          },
          "metadata": {
            "tags": []
          },
          "execution_count": 36
        }
      ]
    },
    {
      "cell_type": "code",
      "metadata": {
        "id": "AWr3VAKHe1gv",
        "outputId": "79aef261-052d-421f-de26-60a614601b88",
        "colab": {
          "base_uri": "https://localhost:8080/",
          "height": 629
        }
      },
      "source": [
        "# You can choose how to cut the actions.\n",
        "# We did analysis before making decision. Cutting function can be, 'cut', 'qcut' in general.\n",
        "# and you can additionally use the exact number to cut with 'cut', and use label for the convenience of output.\n",
        "\n",
        "train_set['lockdown_d3'] = pd.cut(train_set['lockdown_d3'], [-0.003, 0, 1.8, 3], labels = [0,1,2])                \n",
        "train_set['travel_d3'] = pd.cut(train_set['travel_d3'], [-0.003, 0, 1.8, 3], labels = [0,1,2])                                              \n",
        "val_set['lockdown_d3'] = pd.cut(val_set['lockdown_d3'], [-0.003, 0, 1.8, 3], labels = [0,1,2])                    \n",
        "val_set['travel_d3'] = pd.cut(val_set['travel_d3'], [-0.003, 0, 1.8, 3], labels = [0,1,2])                                        \n",
        "test_set['lockdown_d3'] = pd.cut(test_set['lockdown_d3'], [-0.003, 0, 1.8, 3], labels = [0,1,2])                   \n",
        "test_set['travel_d3'] = pd.cut(test_set['travel_d3'], [-0.003, 0, 1.8, 3], labels = [0,1,2])  "
      ],
      "execution_count": null,
      "outputs": [
        {
          "output_type": "stream",
          "text": [
            "/usr/local/lib/python3.6/dist-packages/ipykernel_launcher.py:1: SettingWithCopyWarning: \n",
            "A value is trying to be set on a copy of a slice from a DataFrame.\n",
            "Try using .loc[row_indexer,col_indexer] = value instead\n",
            "\n",
            "See the caveats in the documentation: https://pandas.pydata.org/pandas-docs/stable/user_guide/indexing.html#returning-a-view-versus-a-copy\n",
            "  \"\"\"Entry point for launching an IPython kernel.\n",
            "/usr/local/lib/python3.6/dist-packages/ipykernel_launcher.py:2: SettingWithCopyWarning: \n",
            "A value is trying to be set on a copy of a slice from a DataFrame.\n",
            "Try using .loc[row_indexer,col_indexer] = value instead\n",
            "\n",
            "See the caveats in the documentation: https://pandas.pydata.org/pandas-docs/stable/user_guide/indexing.html#returning-a-view-versus-a-copy\n",
            "  \n",
            "/usr/local/lib/python3.6/dist-packages/ipykernel_launcher.py:3: SettingWithCopyWarning: \n",
            "A value is trying to be set on a copy of a slice from a DataFrame.\n",
            "Try using .loc[row_indexer,col_indexer] = value instead\n",
            "\n",
            "See the caveats in the documentation: https://pandas.pydata.org/pandas-docs/stable/user_guide/indexing.html#returning-a-view-versus-a-copy\n",
            "  This is separate from the ipykernel package so we can avoid doing imports until\n",
            "/usr/local/lib/python3.6/dist-packages/ipykernel_launcher.py:4: SettingWithCopyWarning: \n",
            "A value is trying to be set on a copy of a slice from a DataFrame.\n",
            "Try using .loc[row_indexer,col_indexer] = value instead\n",
            "\n",
            "See the caveats in the documentation: https://pandas.pydata.org/pandas-docs/stable/user_guide/indexing.html#returning-a-view-versus-a-copy\n",
            "  after removing the cwd from sys.path.\n",
            "/usr/local/lib/python3.6/dist-packages/ipykernel_launcher.py:5: SettingWithCopyWarning: \n",
            "A value is trying to be set on a copy of a slice from a DataFrame.\n",
            "Try using .loc[row_indexer,col_indexer] = value instead\n",
            "\n",
            "See the caveats in the documentation: https://pandas.pydata.org/pandas-docs/stable/user_guide/indexing.html#returning-a-view-versus-a-copy\n",
            "  \"\"\"\n",
            "/usr/local/lib/python3.6/dist-packages/ipykernel_launcher.py:6: SettingWithCopyWarning: \n",
            "A value is trying to be set on a copy of a slice from a DataFrame.\n",
            "Try using .loc[row_indexer,col_indexer] = value instead\n",
            "\n",
            "See the caveats in the documentation: https://pandas.pydata.org/pandas-docs/stable/user_guide/indexing.html#returning-a-view-versus-a-copy\n",
            "  \n"
          ],
          "name": "stderr"
        }
      ]
    },
    {
      "cell_type": "code",
      "metadata": {
        "id": "pOh67c5VimM3",
        "outputId": "18afff32-37d1-4b53-b386-16f4bec1dc94",
        "colab": {
          "base_uri": "https://localhost:8080/",
          "height": 136
        }
      },
      "source": [
        "train_set['lockdown_d3'].value_counts(), train_set['travel_d3'].value_counts()"
      ],
      "execution_count": null,
      "outputs": [
        {
          "output_type": "execute_result",
          "data": {
            "text/plain": [
              "(0    7280\n",
              " 2    2277\n",
              " 1    1737\n",
              " Name: lockdown_d3, dtype: int64, 0    6585\n",
              " 1    3480\n",
              " 2    1229\n",
              " Name: travel_d3, dtype: int64)"
            ]
          },
          "metadata": {
            "tags": []
          },
          "execution_count": 43
        }
      ]
    },
    {
      "cell_type": "code",
      "metadata": {
        "id": "7ViMligPiy10",
        "outputId": "cfe2ed49-743c-4c03-a6db-5784a1bc3817",
        "colab": {
          "base_uri": "https://localhost:8080/",
          "height": 136
        }
      },
      "source": [
        "test_set['lockdown_d3'].value_counts(), test_set['travel_d3'].value_counts()"
      ],
      "execution_count": null,
      "outputs": [
        {
          "output_type": "execute_result",
          "data": {
            "text/plain": [
              "(0    2284\n",
              " 1     619\n",
              " 2     288\n",
              " Name: lockdown_d3, dtype: int64, 0    2070\n",
              " 1     750\n",
              " 2     371\n",
              " Name: travel_d3, dtype: int64)"
            ]
          },
          "metadata": {
            "tags": []
          },
          "execution_count": 44
        }
      ]
    },
    {
      "cell_type": "code",
      "metadata": {
        "id": "6y3Z77wk8LKA"
      },
      "source": [
        "df_train = train_set\n",
        "df_val = val_set\n",
        "df_test = test_set"
      ],
      "execution_count": null,
      "outputs": []
    },
    {
      "cell_type": "code",
      "metadata": {
        "id": "_eNQQo2nOyvl",
        "outputId": "af9d723e-30a9-418f-8a42-5794136b5eeb",
        "colab": {
          "base_uri": "https://localhost:8080/",
          "height": 238
        }
      },
      "source": [
        "# More descent reward function, you can add up this field, similarly or differently.\n",
        "c0 = 100 # \n",
        "c1 = -0.5 # -5\n",
        "\n",
        "df_unpivoted4['desc_reward'] = 0.0\n",
        "for i in df_unpivoted4.index:\n",
        "    if i == 0:\n",
        "        continue\n",
        "    if df_unpivoted4.loc[i, 'Country/Region'] == df_unpivoted4.loc[i-1, 'Country/Region']:\n",
        "        death_cur = df_unpivoted4.loc[i,'acc_death']\n",
        "        death_prev = df_unpivoted4.loc[i-1,'acc_death']\n",
        "        recovered_cur = df_unpivoted4.loc[i,'acc_recovery']\n",
        "        recovered_prev = df_unpivoted4.loc[i-1,'acc_recovery']\n",
        "        reward = 0.000000001\n",
        "\n",
        "        if death_cur > death_prev and death_cur != 0:\n",
        "            reward -= c0\n",
        "        elif death_cur == death_prev and death_cur != 0:\n",
        "            if (death_cur != 0) & ((df_unpivoted4.loc[i,'lockdown_d3'] > 0) | (df_unpivoted4.loc[i,'travel_d3'] > 0)):                \n",
        "                reward += c0\n",
        "        elif death_cur < death_prev and death_cur != 0:\n",
        "            reward += c0\n",
        "        reward += c1*(death_cur-death_prev)\n",
        "\n",
        "        if recovered_cur > recovered_prev and recovered_cur != 0:\n",
        "            reward += c0\n",
        "        elif recovered_cur == recovered_prev and recovered_cur != 0:\n",
        "            if (recovered_cur != 0) & ((df_unpivoted4.loc[i,'lockdown_d3'] > 0) | (df_unpivoted4.loc[i,'travel_d3'] > 0)):                \n",
        "                reward += c0\n",
        "        elif recovered_cur < recovered_prev and recovered_cur != 0:\n",
        "            reward -= c0\n",
        "        reward += c1*(recovered_cur-recovered_prev)    \n",
        "        df_unpivoted4.loc[i-1,'desc_reward'] = reward\n",
        "    if i % 10000 == 0:\n",
        "        print(i)\n"
      ],
      "execution_count": null,
      "outputs": [
        {
          "output_type": "stream",
          "text": [
            "10000\n",
            " 1.000000e-09    12639\n",
            " 5.000000e-01      217\n",
            "-1.005000e+02      130\n",
            " 9.950000e+01      113\n",
            " 1.000000e+00       49\n",
            "                 ...  \n",
            "-1.999715e+02        1\n",
            " 1.678657e-01        1\n",
            " 9.275000e+01        1\n",
            " 1.999468e+02        1\n",
            " 1.999994e+02        1\n",
            "Name: shaped_reward, Length: 2114, dtype: int64\n"
          ],
          "name": "stdout"
        }
      ]
    },
    {
      "cell_type": "code",
      "metadata": {
        "id": "xWXwQ-5BQA_B"
      },
      "source": [
        "train_ids = df_train['Country/Region'].unique()\n",
        "val_ids = df_val['Country/Region'].unique()\n",
        "test_ids = df_test['Country/Region'].unique()\n",
        "\n",
        "train_rewards = df_unpivoted4.loc[df_unpivoted4['Country/Region'].isin(train_ids)]['desc_reward']\n",
        "val_rewards = df_unpivoted4.loc[df_unpivoted4['Country/Region'].isin(val_ids)]['desc_reward']\n",
        "test_rewards = df_unpivoted4.loc[df_unpivoted4['Country/Region'].isin(test_ids)]['desc_reward']\n",
        "\n",
        "df_train['reward'] += np.array(train_rewards)\n",
        "df_val['reward'] += np.array(val_rewards)\n",
        "df_test['reward'] += np.array(test_rewards)\n",
        "\n",
        "df_train = df_train.reset_index(drop=True)\n",
        "df_test = df_test.reset_index(drop=True)\n",
        "df_val = df_val.reset_index(drop=True)\n",
        "df_train_test_val = pd.concat([df_train, df_test, df_val], axis = 0)"
      ],
      "execution_count": null,
      "outputs": []
    },
    {
      "cell_type": "code",
      "metadata": {
        "id": "CWmSNNvrrm2f"
      },
      "source": [
        "#You can copy the data into another variable or save it to file here before you start training.\n",
        "\n",
        "#df_train_origin = df_train\n",
        "#df_val_origin = df_val\n",
        "#df_test_origin = df_test"
      ],
      "execution_count": null,
      "outputs": []
    },
    {
      "cell_type": "code",
      "metadata": {
        "id": "TsJ37mreBs9n"
      },
      "source": [
        ""
      ],
      "execution_count": null,
      "outputs": []
    },
    {
      "cell_type": "code",
      "metadata": {
        "id": "ie5CwH5KBtAn"
      },
      "source": [
        ""
      ],
      "execution_count": null,
      "outputs": []
    },
    {
      "cell_type": "code",
      "metadata": {
        "id": "Pd8MUwpmBtDw"
      },
      "source": [
        ""
      ],
      "execution_count": null,
      "outputs": []
    },
    {
      "cell_type": "code",
      "metadata": {
        "id": "x2fh_okqBtGx"
      },
      "source": [
        ""
      ],
      "execution_count": null,
      "outputs": []
    },
    {
      "cell_type": "code",
      "metadata": {
        "id": "WRHMs6DqBtKS"
      },
      "source": [
        ""
      ],
      "execution_count": null,
      "outputs": []
    },
    {
      "cell_type": "code",
      "metadata": {
        "id": "LO43NO56H7-P"
      },
      "source": [
        ""
      ],
      "execution_count": null,
      "outputs": []
    }
  ]
}